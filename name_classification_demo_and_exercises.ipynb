{
 "cells": [
  {
   "cell_type": "markdown",
   "metadata": {},
   "source": [
    "### Name Classification \n",
    "Based on https://pytorch.org/tutorials/intermediate/char_rnn_classification_tutorial.html\n",
    "\n",
    "In this notebook we will classify names with the help of pytorch. The names that we look at will be from 18 different languages.\n",
    "\n",
    "We will show the following\n",
    "\n",
    "1) The dataset class and dataloader from pytorch\n",
    "\n",
    "2) A basic neural network\n",
    "\n",
    "3) Rnn, lstm and Gru.\n"
   ]
  },
  {
   "cell_type": "markdown",
   "metadata": {},
   "source": [
    "### The dataset\n",
    "\n",
    "Our dataset consists of names from different languages, e.g. Hanz is a german name, Antonowitsch is a Czech name etc...\n",
    "\n",
    "We must think of a way of repressenting these names, such that a neural network can work with it.\n",
    "First of all, we need to make sure that the letters can be interpreted by a neural network, we do this by mapping each letter to a one-hot encoding. Secondly, we need to make sure that the input lenghts of every name is the same. We can solve this by using by padding each name with padding characters.\n",
    "\n",
    "We will start by some handy funcionts that will help us with this task.\n"
   ]
  },
  {
   "cell_type": "code",
   "execution_count": 1,
   "metadata": {},
   "outputs": [],
   "source": [
    "# First load all the relavent packages\n",
    "# Creating a custom dataset\n",
    "from io import open\n",
    "import glob\n",
    "import os\n",
    "\n",
    "import unicodedata\n",
    "import string\n",
    "import numpy as np"
   ]
  },
  {
   "cell_type": "code",
   "execution_count": 5,
   "metadata": {},
   "outputs": [],
   "source": [
    "\n",
    "all_letters = string.ascii_letters + \" .,;'\"  \"0\" #We add 0 to pad the sequences \n",
    "n_letters = len(all_letters)\n",
    "\n",
    "\n",
    "# Because some names have weird characters such as \"é\" we map them to standard Ascii caracters.\n",
    "# Basically maps weird characters to the standard 26 letter alphabet e.g. é -> e\n",
    "def unicode_to_ascii(s):\n",
    "    return ''.join(\n",
    "        c for c in unicodedata.normalize('NFD', s)\n",
    "        if unicodedata.category(c) != 'Mn'\n",
    "        and c in all_letters\n",
    "    )\n",
    "\n",
    "\n",
    "# Read the lines of a file\n",
    "def read_lines(filename):\n",
    "    lines = open(filename, encoding='utf-8').read().strip().split('\\n')\n",
    "    return [unicodeToAscii(line) for line in lines]\n",
    "def find_files(path): return glob.glob(path)\n",
    "\n",
    "# Find the index of a letter in our alphabet\n",
    "def letter_to_index(letter):\n",
    "    return all_letters.find(letter)\n",
    "\n",
    "\n",
    "# Creates a tensor containing one-hot vectors for the name. \n",
    "def name_to_tensor(name):\n",
    "    tensor = torch.zeros(len(name), n_letters)\n",
    "    count = 0\n",
    "    for li, letter in enumerate(name):\n",
    "        tensor[li][letterToIndex(letter)] = 1\n",
    "    return tensor\n",
    "\n",
    "# Each categorie is also mapped to a tensor.\n",
    "def categorie_to_tensor(index, num_categories):\n",
    "    t = torch.zeros(num_categories, dtype=torch.long)\n",
    "    t[index] = 1.0\n",
    "    return t"
   ]
  },
  {
   "cell_type": "code",
   "execution_count": 8,
   "metadata": {},
   "outputs": [],
   "source": [
    "# We will now create dataset object that handles loading the data.\n",
    "from torch.utils.data import Dataset\n",
    "import torch\n",
    "\n",
    "# A dataset class needs to have 3 functions: __init__, __get_item__ and __len__\n",
    "class NameDataset(Dataset):\n",
    "    \n",
    "    def __init__(self, data_root):\n",
    "        self.samples = [] # Will contain the samples in the form (name, language)\n",
    "        self.all_categories = [] # list of all the different languages\n",
    "        \n",
    "        # We read each file in the folder and parses it to get the samples.\n",
    "        for filename in findFiles( data_root + '*.txt'):\n",
    "            category = os.path.splitext(os.path.basename(filename))[0]\n",
    "            self.all_categories.append(category)\n",
    "            lines = readLines(filename)\n",
    "            for line in lines:\n",
    "                self.samples.append((line, category))\n",
    "        \n",
    "        # Keeps track of the number of categories\n",
    "        self.num_categories = len(self.all_categories)\n",
    "        \n",
    "    \n",
    "        #pad the sequences to the appropiate length\n",
    "        self.pad_sequences()\n",
    "\n",
    "        #Lastly make sure that each name and categorie is a tensor\n",
    "        self.convert_samples_to_tensors()\n",
    "\n",
    "\n",
    "    def pad_sequences(self):\n",
    "        \n",
    "        #We want to pad the sequence to the length of the longest name.\n",
    "        self.max_len = np.max([len(name) for name, categorie in self.samples])\n",
    "        self.samples = [(name + \"0\" * (self.max_len - len(name)), categorie) for name, categorie in self.samples]\n",
    "        \n",
    "    def convert_samples_to_tensors(self):\n",
    "         self.samples = [(nameToTensor(name), self.all_categories.index(language) ) for name, language in self.samples]\n",
    "        \n",
    "    def __len__(self):\n",
    "        return len(self.samples)\n",
    "\n",
    "    def __getitem__(self, idx):\n",
    "        return self.samples[idx]\n",
    "    \n"
   ]
  },
  {
   "cell_type": "code",
   "execution_count": 9,
   "metadata": {},
   "outputs": [],
   "source": [
    "### Next we initialize the dataset and put it into a dataloader, we also make a test set and a train set.\n",
    "\n",
    "\n",
    "dataset = NameDataset('names/')\n",
    "test_num = int(0.2 * len(dataset))\n",
    "train_num = len(dataset) - test_num\n",
    "train_dataset, test_dataset = random_split(dataset, [train_num, test_num])\n",
    "train_dataloader = DataLoader(train_dataset, batch_size=64, shuffle=True)\n",
    "test_dataloader = DataLoader(test_dataset, batch_size=64, shuffle=False) # No need to shuffle"
   ]
  },
  {
   "cell_type": "code",
   "execution_count": 14,
   "metadata": {},
   "outputs": [
    {
     "name": "stdout",
     "output_type": "stream",
     "text": [
      "[tensor([[[0., 0., 0.,  ..., 0., 0., 0.],\n",
      "         [0., 0., 0.,  ..., 0., 0., 0.],\n",
      "         [0., 0., 0.,  ..., 0., 0., 0.],\n",
      "         ...,\n",
      "         [0., 0., 0.,  ..., 0., 0., 1.],\n",
      "         [0., 0., 0.,  ..., 0., 0., 1.],\n",
      "         [0., 0., 0.,  ..., 0., 0., 1.]],\n",
      "\n",
      "        [[0., 0., 0.,  ..., 0., 0., 0.],\n",
      "         [1., 0., 0.,  ..., 0., 0., 0.],\n",
      "         [0., 0., 0.,  ..., 0., 0., 0.],\n",
      "         ...,\n",
      "         [0., 0., 0.,  ..., 0., 0., 1.],\n",
      "         [0., 0., 0.,  ..., 0., 0., 1.],\n",
      "         [0., 0., 0.,  ..., 0., 0., 1.]],\n",
      "\n",
      "        [[0., 0., 0.,  ..., 0., 0., 0.],\n",
      "         [0., 0., 0.,  ..., 0., 0., 0.],\n",
      "         [0., 0., 0.,  ..., 0., 0., 0.],\n",
      "         ...,\n",
      "         [0., 0., 0.,  ..., 0., 0., 1.],\n",
      "         [0., 0., 0.,  ..., 0., 0., 1.],\n",
      "         [0., 0., 0.,  ..., 0., 0., 1.]],\n",
      "\n",
      "        ...,\n",
      "\n",
      "        [[0., 0., 0.,  ..., 0., 0., 0.],\n",
      "         [0., 0., 0.,  ..., 0., 0., 0.],\n",
      "         [1., 0., 0.,  ..., 0., 0., 0.],\n",
      "         ...,\n",
      "         [0., 0., 0.,  ..., 0., 0., 1.],\n",
      "         [0., 0., 0.,  ..., 0., 0., 1.],\n",
      "         [0., 0., 0.,  ..., 0., 0., 1.]],\n",
      "\n",
      "        [[0., 0., 0.,  ..., 0., 0., 0.],\n",
      "         [0., 0., 0.,  ..., 0., 0., 0.],\n",
      "         [0., 0., 0.,  ..., 0., 0., 0.],\n",
      "         ...,\n",
      "         [0., 0., 0.,  ..., 0., 0., 1.],\n",
      "         [0., 0., 0.,  ..., 0., 0., 1.],\n",
      "         [0., 0., 0.,  ..., 0., 0., 1.]],\n",
      "\n",
      "        [[0., 0., 0.,  ..., 0., 0., 0.],\n",
      "         [1., 0., 0.,  ..., 0., 0., 0.],\n",
      "         [0., 0., 0.,  ..., 0., 0., 0.],\n",
      "         ...,\n",
      "         [0., 0., 0.,  ..., 0., 0., 1.],\n",
      "         [0., 0., 0.,  ..., 0., 0., 1.],\n",
      "         [0., 0., 0.,  ..., 0., 0., 1.]]]), tensor([16,  6, 10, 14, 14,  0,  4, 14,  1,  0,  0, 14,  4,  9, 14,  4,  7,  5,\n",
      "        14, 14,  6,  4,  4, 14,  6, 14,  4, 14,  4,  6,  6, 14, 14, 14, 10, 14,\n",
      "        14, 10, 14,  4, 14, 14,  4, 15, 14, 14, 14, 14, 14, 14, 14,  4, 16,  4,\n",
      "        14, 14,  4,  4, 14,  0, 14,  9,  4, 14])]\n",
      "torch.Size([64, 19, 58])\n"
     ]
    }
   ],
   "source": [
    "# We look at the dataset\n",
    "for i, batch in enumerate(train_dataloader):\n",
    "    print(batch)\n",
    "    print(batch[0].shape)\n",
    "    break"
   ]
  },
  {
   "cell_type": "markdown",
   "metadata": {},
   "source": [
    "### The neural network\n",
    "\n",
    "We will create a simple 3 layer feed forward neural network to start with. \n",
    "We do this by creating a class that extends nn.Module. For this we need to define two things:\n",
    "\n",
    "1) The '__init__'\n",
    "\n",
    "2) The 'forward' function with gets as input a name and produces a vector containing the probabilities of that name belonging to each language"
   ]
  },
  {
   "cell_type": "code",
   "execution_count": 65,
   "metadata": {},
   "outputs": [],
   "source": [
    "import torch.nn as nn \n",
    "from torch.nn import functional as F # F contains functions that are not trainable, e.g. softmax, sigmoid, relu etc..\n",
    "\n",
    "class SmallNetwork(nn.Module):\n",
    "    \n",
    "    def __init__(self, input_len, n_letters):\n",
    "        super(SmallNetwork, self).__init__()\n",
    "        self.input_len = input_len\n",
    "        self.first_layer = nn.Linear(input_len * n_letters, 128)\n",
    "        self.second_layer = nn.Linear(128, 64)\n",
    "        self.output = nn.Linear(64, n_letters)\n",
    "        \n",
    "    def forward(self, name):\n",
    "        x =  name.view(-1, self.first_layer.in_features)\n",
    "        x = self.first_layer(x)\n",
    "        x = F.relu(x)\n",
    "        x = self.second_layer(x)\n",
    "        x = F.relu(x)\n",
    "        x = self.output(x)\n",
    "        return F.log_softmax(x, dim=-1)\n"
   ]
  },
  {
   "cell_type": "markdown",
   "metadata": {},
   "source": [
    "### Training\n",
    "\n",
    "Next up we define the train and test functions, and a way of plotting the results. \n",
    "\n"
   ]
  },
  {
   "cell_type": "code",
   "execution_count": 91,
   "metadata": {},
   "outputs": [],
   "source": [
    "import matplotlib.pyplot as plt\n",
    "def train(model,criterion, optimizer, n_epochs, dataloader, test_callback=None):\n",
    "    '''\n",
    "        Model: the model to train.\n",
    "        criterion: the loss function.\n",
    "        optimizer: the function that is used to update the weights.\n",
    "        n_epochs: number of epochs.\n",
    "        dataloader: the dataloader that is used to get samples.\n",
    "        test_callback: a callback that is used to test the model.\n",
    "    '''\n",
    "    loss_history = []\n",
    "    test_history = []\n",
    "    for epoch in range(1, n_epochs + 1):\n",
    "        epoch_total_loss = 0\n",
    "        for i, (names, cat) in enumerate(dataloader):\n",
    "            optimizer.zero_grad() # Clears existing gradients from previous epoch\n",
    "            \n",
    "            \n",
    "            output = model(names)\n",
    "\n",
    "            loss = criterion(output, cat)\n",
    "            loss.backward() # Does backpropagation and calculates gradients\n",
    "            optimizer.step() # Updates the weights accordingly\n",
    "            \n",
    "            epoch_total_loss += loss.item() # Keep track of the total loss\n",
    "        loss_history.append(epoch_total_loss/len(dataloader))\n",
    "        \n",
    "        if test_callback != None:\n",
    "            test_history.append(test_callback(model, criterion))\n",
    "\n",
    "        print('Epoch: {}/{}.............'.format(epoch, n_epochs), end=' ')\n",
    "        print(\"Loss: {:.4f}\".format(epoch_total_loss/ len(dataloader)))\n",
    "    return loss_history, test_history\n",
    "        \n",
    "        \n",
    "def test(model, criterion, dataloader):\n",
    "    with torch.no_grad():\n",
    "        total_loss = 0\n",
    "        for i, (names, cat) in enumerate(dataloader):\n",
    "            output = model(names)\n",
    "            loss = criterion(output, cat)\n",
    "            total_loss += loss.item()\n",
    "        print(\"Test loss: {:.4f}\".format(total_loss/len(dataloader)))\n",
    "    return total_loss/len(dataloader)\n",
    "            \n",
    "\n",
    "\n",
    "def plot_train_test_history(train_history, test_history):\n",
    "    x = [x for x in range(1, len(train_history)+ 1)]\n",
    "    plt.plot(x, train_history)\n",
    "    plt.plot(x, test_history)\n",
    "    plt.show()"
   ]
  },
  {
   "cell_type": "code",
   "execution_count": 79,
   "metadata": {},
   "outputs": [],
   "source": [
    "### Now we initialize the bunch\n",
    "small_net = SmallNetwork(dataset.max_len, n_letters)\n",
    "\n",
    "lr=0.01\n",
    "\n",
    "criterion = nn.NLLLoss()\n",
    "optimizer = torch.optim.Adam(small_net.parameters(), lr=lr)\n",
    "n_epochs = 50\n",
    "\n",
    "\n",
    "test_callback = lambda model, criterion: test(model, criterion, test_dataloader) # Creates a callback that can be used to test the network on the given dataloader\n"
   ]
  },
  {
   "cell_type": "code",
   "execution_count": 83,
   "metadata": {},
   "outputs": [
    {
     "name": "stdout",
     "output_type": "stream",
     "text": [
      "Test loss: 2.2269\n",
      "Epoch: 1/50............. Loss: 0.1687\n",
      "Test loss: 2.1765\n",
      "Epoch: 2/50............. Loss: 0.1604\n",
      "Test loss: 2.2795\n",
      "Epoch: 3/50............. Loss: 0.1646\n",
      "Test loss: 2.2185\n",
      "Epoch: 4/50............. Loss: 0.1648\n",
      "Test loss: 2.2950\n",
      "Epoch: 5/50............. Loss: 0.1853\n",
      "Test loss: 2.3660\n",
      "Epoch: 6/50............. Loss: 0.1549\n",
      "Test loss: 2.4572\n",
      "Epoch: 7/50............. Loss: 0.1568\n",
      "Test loss: 2.3862\n",
      "Epoch: 8/50............. Loss: 0.1481\n",
      "Test loss: 2.3398\n",
      "Epoch: 9/50............. Loss: 0.1559\n",
      "Test loss: 2.4228\n",
      "Epoch: 10/50............. Loss: 0.1445\n",
      "Test loss: 2.4873\n",
      "Epoch: 11/50............. Loss: 0.1509\n",
      "Test loss: 2.4400\n",
      "Epoch: 12/50............. Loss: 0.1656\n",
      "Test loss: 2.4585\n",
      "Epoch: 13/50............. Loss: 0.1602\n",
      "Test loss: 2.4947\n",
      "Epoch: 14/50............. Loss: 0.1503\n",
      "Test loss: 2.4064\n",
      "Epoch: 15/50............. Loss: 0.1544\n",
      "Test loss: 2.4662\n",
      "Epoch: 16/50............. Loss: 0.1553\n",
      "Test loss: 2.5662\n",
      "Epoch: 17/50............. Loss: 0.1552\n",
      "Test loss: 2.5108\n",
      "Epoch: 18/50............. Loss: 0.1622\n",
      "Test loss: 2.6255\n",
      "Epoch: 19/50............. Loss: 0.1568\n",
      "Test loss: 2.6824\n",
      "Epoch: 20/50............. Loss: 0.1469\n",
      "Test loss: 2.4999\n",
      "Epoch: 21/50............. Loss: 0.1375\n",
      "Test loss: 2.5990\n",
      "Epoch: 22/50............. Loss: 0.1343\n",
      "Test loss: 2.6905\n",
      "Epoch: 23/50............. Loss: 0.1310\n",
      "Test loss: 2.5801\n",
      "Epoch: 24/50............. Loss: 0.1417\n",
      "Test loss: 2.6596\n",
      "Epoch: 25/50............. Loss: 0.1651\n",
      "Test loss: 2.6437\n",
      "Epoch: 26/50............. Loss: 0.1531\n",
      "Test loss: 2.8350\n",
      "Epoch: 27/50............. Loss: 0.1553\n",
      "Test loss: 2.7904\n",
      "Epoch: 28/50............. Loss: 0.1507\n",
      "Test loss: 2.8910\n",
      "Epoch: 29/50............. Loss: 0.1423\n",
      "Test loss: 2.8204\n",
      "Epoch: 30/50............. Loss: 0.1536\n",
      "Test loss: 2.7653\n",
      "Epoch: 31/50............. Loss: 0.1415\n",
      "Test loss: 2.8315\n",
      "Epoch: 32/50............. Loss: 0.1285\n",
      "Test loss: 2.9080\n",
      "Epoch: 33/50............. Loss: 0.1317\n",
      "Test loss: 2.7715\n",
      "Epoch: 34/50............. Loss: 0.1497\n",
      "Test loss: 3.0143\n",
      "Epoch: 35/50............. Loss: 0.1280\n",
      "Test loss: 3.0327\n",
      "Epoch: 36/50............. Loss: 0.1311\n",
      "Test loss: 2.7913\n",
      "Epoch: 37/50............. Loss: 0.1400\n",
      "Test loss: 2.7762\n",
      "Epoch: 38/50............. Loss: 0.1313\n",
      "Test loss: 3.0644\n",
      "Epoch: 39/50............. Loss: 0.1454\n",
      "Test loss: 2.8557\n",
      "Epoch: 40/50............. Loss: 0.1319\n",
      "Test loss: 3.0480\n",
      "Epoch: 41/50............. Loss: 0.1395\n",
      "Test loss: 3.0823\n",
      "Epoch: 42/50............. Loss: 0.1428\n",
      "Test loss: 3.0480\n",
      "Epoch: 43/50............. Loss: 0.1315\n",
      "Test loss: 2.9164\n",
      "Epoch: 44/50............. Loss: 0.1447\n",
      "Test loss: 3.0090\n",
      "Epoch: 45/50............. Loss: 0.1386\n",
      "Test loss: 3.0695\n",
      "Epoch: 46/50............. Loss: 0.1364\n",
      "Test loss: 2.9438\n",
      "Epoch: 47/50............. Loss: 0.1360\n",
      "Test loss: 3.0772\n",
      "Epoch: 48/50............. Loss: 0.1291\n",
      "Test loss: 3.0184\n",
      "Epoch: 49/50............. Loss: 0.1439\n",
      "Test loss: 3.0101\n",
      "Epoch: 50/50............. Loss: 0.1283\n"
     ]
    }
   ],
   "source": [
    "# Lastly the actual training\n",
    "train_history, test_history = train(small_net, criterion, optimizer, n_epochs, train_dataloader, test_callback=test_callback)"
   ]
  },
  {
   "cell_type": "code",
   "execution_count": 69,
   "metadata": {},
   "outputs": [
    {
     "data": {
      "image/png": "[encoded data removed]",
      "text/plain": [
       "<Figure size 432x288 with 1 Axes>"
      ]
     },
     "metadata": {
      "needs_background": "light"
     },
     "output_type": "display_data"
    }
   ],
   "source": [
    "plot_train_test_history(train_history, test_history)"
   ]
  },
  {
   "cell_type": "code",
   "execution_count": 70,
   "metadata": {},
   "outputs": [],
   "source": [
    "# As you can see there is a lot of overfitting, one easy way to counteract this is with early stopping\n"
   ]
  },
  {
   "cell_type": "code",
   "execution_count": 78,
   "metadata": {},
   "outputs": [],
   "source": [
    "small_net = SmallNetwork(dataset.max_len, n_letters)\n",
    "\n",
    "lr=0.01\n",
    "\n",
    "criterion = nn.NLLLoss()\n",
    "optimizer = torch.optim.Adam(small_net.parameters(), lr=lr)\n",
    "n_epochs = 4\n",
    "\n",
    "\n",
    "test_callback = lambda model, criterion: test(model, criterion, test_dataloader) # Creates a callback that can be used to test the network on the given dataloader\n"
   ]
  },
  {
   "cell_type": "code",
   "execution_count": 72,
   "metadata": {},
   "outputs": [
    {
     "name": "stdout",
     "output_type": "stream",
     "text": [
      "Test loss: 1.0250\n",
      "Epoch: 1/4............. Loss: 1.3244\n",
      "Test loss: 0.8323\n",
      "Epoch: 2/4............. Loss: 0.9035\n",
      "Test loss: 0.8096\n",
      "Epoch: 3/4............. Loss: 0.7476\n",
      "Test loss: 0.7564\n",
      "Epoch: 4/4............. Loss: 0.6419\n"
     ]
    }
   ],
   "source": [
    "train_history, test_history = train(small_net, criterion, optimizer, n_epochs, train_dataloader, test_callback=test_callback)"
   ]
  },
  {
   "cell_type": "code",
   "execution_count": 73,
   "metadata": {},
   "outputs": [
    {
     "data": {
      "image/png": "[encoded data removed]",
      "text/plain": [
       "<Figure size 432x288 with 1 Axes>"
      ]
     },
     "metadata": {
      "needs_background": "light"
     },
     "output_type": "display_data"
    }
   ],
   "source": [
    "plot_train_test_history(train_history, test_history)"
   ]
  },
  {
   "cell_type": "code",
   "execution_count": 84,
   "metadata": {},
   "outputs": [],
   "source": [
    "#Lastly we will look at some sample names\n",
    "\n",
    "def predict(name, model):\n",
    "    \n",
    "    # First we pad the name\n",
    "    padded_name = name + \"0\" * (model.input_len - len(name))\n",
    "    name_tensor = name_to_tensor(padded_name)\n",
    "    prediction = model(name_tensor.view(1, -1, n_letters))\n",
    "    detached_prediction = prediction.detach()\n",
    "    return dataset.all_categories[np.argmax(detached_prediction[0])]"
   ]
  },
  {
   "cell_type": "code",
   "execution_count": 85,
   "metadata": {},
   "outputs": [
    {
     "name": "stdout",
     "output_type": "stream",
     "text": [
      "Hanz German\n",
      "Hans German\n",
      "Tsi Chinese\n",
      "Roberto French\n",
      "Roberta Italian\n",
      "Antonowitsch Czech\n"
     ]
    }
   ],
   "source": [
    "names = [\"Hanz\", 'Hans', 'Tsi', 'Roberto', 'Roberta', 'Antonowitsch']\n",
    "for name in names:\n",
    "    print(name, predict(name, small_net))"
   ]
  },
  {
   "cell_type": "markdown",
   "metadata": {},
   "source": [
    "### Better models. \n",
    "\n",
    "There are two issues with this model:\n",
    "\n",
    "1) It is not the best model, makes weird mistakes even on small dataset. \n",
    "\n",
    "2) it can only take names of length 19. What if we added some crazy other language which has names of length greater then 19? Or what if we have language with only very small names. Then we give the neural network a lot of info it is not using. For this we can use RNNs."
   ]
  },
  {
   "cell_type": "markdown",
   "metadata": {},
   "source": [
    "Exercise:\n",
    "\n",
    "Create 3 different rnn models (vanilla, gru, lstm) and compare their performance"
   ]
  },
  {
   "cell_type": "code",
   "execution_count": 104,
   "metadata": {},
   "outputs": [],
   "source": [
    "import torch.nn as nn \n",
    "from torch.nn import functional as F\n",
    "n_hidden = 128\n",
    "\n",
    "\n",
    "class RNNModel(nn.Module):\n",
    "\n",
    "    def __init__(self, n_letters, n_hidden, num_categories):\n",
    "        super(RNNModel, self).__init__()\n",
    "        self.name = \"rnn\"\n",
    "        self.rnn = nn.RNN(n_letters, n_hidden, batch_first=True,)\n",
    "        self.fc = nn.Linear(n_hidden, num_categories)\n",
    "\n",
    "    def forward(self, name):\n",
    "        rnn_out, _ = self.rnn(name)\n",
    "        fc_out = self.fc(rnn_out[:, -1 ]) # Only need the last output of the rnn\n",
    "        return F.log_softmax(fc_out, dim=1)\n",
    "        \n",
    "\n",
    "class LSTMModel(nn.Module):\n",
    "\n",
    "    def __init__(self, n_letters, n_hidden, num_categories):\n",
    "        super(LSTMModel, self).__init__()\n",
    "        self.name = \"lstm\"\n",
    "        self.rnn = nn.LSTM(n_letters, n_hidden, batch_first=True,)\n",
    "        self.fc = nn.Linear(n_hidden, num_categories)\n",
    "\n",
    "    def forward(self, name):\n",
    "        rnn_out, _ = self.rnn(name)\n",
    "        fc_out = self.fc(rnn_out[:, -1 ]) # Only need the last output of the rnn\n",
    "        return F.log_softmax(fc_out, dim=1)\n",
    "    \n",
    "    \n",
    "class GRUModel(nn.Module):\n",
    "\n",
    "    def __init__(self, n_letters, n_hidden, num_categories):\n",
    "        super(GRUModel, self).__init__()\n",
    "        self.name = 'gru'\n",
    "        self.rnn = nn.GRU(n_letters, n_hidden, batch_first=True,)\n",
    "        self.fc = nn.Linear(n_hidden, num_categories)\n",
    "\n",
    "    def forward(self, name):\n",
    "        rnn_out, _ = self.rnn(name)\n",
    "        fc_out = self.fc(rnn_out[:, -1 ]) # Only need the last output of the rnn\n",
    "        return F.log_softmax(fc_out, dim=1)\n",
    "    \n",
    "\n",
    "          "
   ]
  },
  {
   "cell_type": "code",
   "execution_count": 105,
   "metadata": {},
   "outputs": [],
   "source": [
    "rnn = RNNModel(n_letters, n_hidden, dataset.num_categories)\n",
    "LSTM = LSTMModel(n_letters, n_hidden, dataset.num_categories)\n",
    "gru = GRUModel(n_letters, n_hidden, dataset.num_categories)"
   ]
  },
  {
   "cell_type": "code",
   "execution_count": 106,
   "metadata": {},
   "outputs": [],
   "source": [
    "def train_and_compare(models):\n",
    "    histories = []\n",
    "    for model in models:\n",
    "        lr=0.01\n",
    "\n",
    "        criterion = nn.NLLLoss()\n",
    "        optimizer = torch.optim.Adam(model.parameters(), lr=lr)\n",
    "        n_epochs = 2\n",
    "\n",
    "\n",
    "        test_callback = lambda model, criterion: test(model, criterion, test_dataloader) # Creates a callback that can be used to test the network on the given dataloader\n",
    "        histories.append(train(model, criterion, optimizer, n_epochs, train_dataloader, test_callback=test_callback))\n",
    "    for history in histories:\n",
    "        plot_train_test_history(*history)"
   ]
  },
  {
   "cell_type": "code",
   "execution_count": 107,
   "metadata": {},
   "outputs": [
    {
     "name": "stdout",
     "output_type": "stream",
     "text": [
      "Test loss: 1.8932\n",
      "Epoch: 1/2............. Loss: 1.9422\n",
      "Test loss: 1.8771\n",
      "Epoch: 2/2............. Loss: 1.9296\n",
      "Test loss: 1.8410\n",
      "Epoch: 1/2............. Loss: 1.8730\n",
      "Test loss: 1.6337\n",
      "Epoch: 2/2............. Loss: 1.8174\n",
      "Test loss: 0.7856\n",
      "Epoch: 1/2............. Loss: 1.2289\n",
      "Test loss: 0.6545\n",
      "Epoch: 2/2............. Loss: 0.6858\n"
     ]
    },
    {
     "data": {
      "image/png": "[encoded data removed]",
      "text/plain": [
       "<Figure size 432x288 with 1 Axes>"
      ]
     },
     "metadata": {
      "needs_background": "light"
     },
     "output_type": "display_data"
    },
    {
     "data": {
      "image/png": "[encoded data removed]",
      "text/plain": [
       "<Figure size 432x288 with 1 Axes>"
      ]
     },
     "metadata": {
      "needs_background": "light"
     },
     "output_type": "display_data"
    },
    {
     "data": {
      "image/png": "[encoded data removed]",
      "text/plain": [
       "<Figure size 432x288 with 1 Axes>"
      ]
     },
     "metadata": {
      "needs_background": "light"
     },
     "output_type": "display_data"
    }
   ],
   "source": [
    "models = [rnn, LSTM, gru]\n",
    "train_and_compare(models)"
   ]
  },
  {
   "cell_type": "code",
   "execution_count": 108,
   "metadata": {},
   "outputs": [],
   "source": [
    "def predict_rnn(name, model):\n",
    "    \n",
    "    # No need to pad this time\n",
    "    name_tensor = name_to_tensor(name)\n",
    "    prediction = model(name_tensor.view(1, -1, n_letters))\n",
    "    detached_prediction = prediction.detach()\n",
    "    return dataset.all_categories[np.argmax(detached_prediction[0])]"
   ]
  },
  {
   "cell_type": "code",
   "execution_count": 109,
   "metadata": {},
   "outputs": [
    {
     "name": "stdout",
     "output_type": "stream",
     "text": [
      "rnn\n",
      "Hanz Russian\n",
      "Hans Russian\n",
      "Tsi Russian\n",
      "Roberto Russian\n",
      "Roberta Russian\n",
      "Antonowitsch Russian\n",
      "thisisaverylongnonexistingnamewonderwhatitwilldo Russian\n",
      "lstm\n",
      "Hanz English\n",
      "Hans English\n",
      "Tsi Russian\n",
      "Roberto Russian\n",
      "Roberta Russian\n",
      "Antonowitsch English\n",
      "thisisaverylongnonexistingnamewonderwhatitwilldo Russian\n",
      "gru\n",
      "Hanz German\n",
      "Hans Arabic\n",
      "Tsi Russian\n",
      "Roberto Spanish\n",
      "Roberta Spanish\n",
      "Antonowitsch Russian\n",
      "thisisaverylongnonexistingnamewonderwhatitwilldo Russian\n"
     ]
    }
   ],
   "source": [
    "for model in models:\n",
    "    \n",
    "    print(model.name)\n",
    "    names = [\"Hanz\", 'Hans', 'Tsi', 'Roberto', 'Roberta', 'Antonowitsch', \"thisisaverylongnonexistingnamewonderwhatitwilldo\"]\n",
    "    for name in names:\n",
    "        print(name, predict_rnn(name, model))"
   ]
  },
  {
   "cell_type": "code",
   "execution_count": null,
   "metadata": {},
   "outputs": [],
   "source": []
  }
 ],
 "metadata": {
  "kernelspec": {
   "display_name": "Python 3",
   "language": "python",
   "name": "python3"
  },
  "language_info": {
   "codemirror_mode": {
    "name": "ipython",
    "version": 3
   },
   "file_extension": ".py",
   "mimetype": "text/x-python",
   "name": "python",
   "nbconvert_exporter": "python",
   "pygments_lexer": "ipython3",
   "version": "3.8.5"
  }
 },
 "nbformat": 4,
 "nbformat_minor": 4
}
