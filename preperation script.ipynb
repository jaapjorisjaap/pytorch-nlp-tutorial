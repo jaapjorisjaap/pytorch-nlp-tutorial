{
 "cells": [
  {
   "cell_type": "markdown",
   "metadata": {},
   "source": [
    "This is a preperation script, to make sure everything is setup.\n",
    "\n",
    "First go to https://nlp.stanford.edu/projects/glove/ and download the 6b glove vector\n",
    "\n",
    "Secondly run the following script to download the idmb dataset."
   ]
  },
  {
   "cell_type": "code",
   "execution_count": 1,
   "metadata": {},
   "outputs": [],
   "source": [
    "from torchtext import data, datasets\n",
    "\n",
    "TEXT = data.Field(lower=True, batch_first=True, fix_length=100)\n",
    "LABEL = data.Field(sequential=False)\n",
    "\n",
    "# load the dataset. This prompts a download, which will take a minute or 2\n",
    "train, test = datasets.IMDB.splits(TEXT, LABEL) "
   ]
  },
  {
   "cell_type": "code",
   "execution_count": null,
   "metadata": {},
   "outputs": [],
   "source": []
  }
 ],
 "metadata": {
  "kernelspec": {
   "display_name": "Python 3",
   "language": "python",
   "name": "python3"
  },
  "language_info": {
   "codemirror_mode": {
    "name": "ipython",
    "version": 3
   },
   "file_extension": ".py",
   "mimetype": "text/x-python",
   "name": "python",
   "nbconvert_exporter": "python",
   "pygments_lexer": "ipython3",
   "version": "3.8.5"
  }
 },
 "nbformat": 4,
 "nbformat_minor": 4
}
