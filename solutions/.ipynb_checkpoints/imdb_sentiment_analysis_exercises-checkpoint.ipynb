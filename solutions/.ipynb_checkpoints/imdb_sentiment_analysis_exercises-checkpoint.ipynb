{
 "cells": [
  {
   "cell_type": "code",
   "execution_count": 1,
   "metadata": {},
   "outputs": [],
   "source": [
    "import torch\n",
    "device = torch.device(\"cuda:0\" if torch.cuda.is_available() else \"cpu\")\n",
    "\n",
    "# Set default to run on the GPU if available (for the speed up)\n",
    "if torch.cuda.is_available():\n",
    "    torch.cuda.set_device(device)\n",
    "torch.set_default_tensor_type('torch.cuda.FloatTensor')\n",
    "\n",
    "\n",
    "from torch.utils.data import Dataset, DataLoader, random_split"
   ]
  },
  {
   "cell_type": "markdown",
   "metadata": {},
   "source": [
    "### Imdb sentiment analysis.\n",
    "\n",
    "This time we are going to look at imdb sentiment analysis. The imdb dataset is a dataset containing movie reviews and a label for each review wheter it is positive or negative. We are going to create a model that will predict if a review is positive or negative. \n",
    "\n",
    "We will make use of torchtext for loading and proprocessing the dataset.\n",
    "\n",
    "Read and run the following cell:"
   ]
  },
  {
   "cell_type": "code",
   "execution_count": 2,
   "metadata": {},
   "outputs": [],
   "source": [
    "# First we setup the imdb dataset\n",
    "from torchtext import data, datasets\n",
    "# set up fields, one for the text in the review and one for the label. \n",
    "# We will make each review of length 100 (Set to a smaller number for faster training)\n",
    "TEXT = data.Field(lower=True, batch_first=True, fix_length=100)\n",
    "LABEL = data.Field(sequential=False)\n",
    "\n",
    "# load the dataset. This prompts a download, which will take a minute or 2\n",
    "train, test = datasets.IMDB.splits(TEXT, LABEL) \n",
    "\n",
    "# build the vocabulary. We will only use the 1000 most common words. All the other words will be mapped to the <unk> token\n",
    "TEXT.build_vocab(train, max_size=1000)\n",
    "LABEL.build_vocab(train)\n",
    "\n",
    "# make iterator for splits\n",
    "train_iter, test_iter = data.Iterator.splits((train, test), batch_size=64, shuffle=True)"
   ]
  },
  {
   "cell_type": "markdown",
   "metadata": {},
   "source": [
    "Let's eplore the things that we have created.\n",
    "\n",
    "First the vocabulairy. This can be seen as a dictonairy that maps each possible word to a number."
   ]
  },
  {
   "cell_type": "code",
   "execution_count": 8,
   "metadata": {},
   "outputs": [
    {
     "name": "stdout",
     "output_type": "stream",
     "text": [
      "56\n",
      "97\n",
      "0\n"
     ]
    }
   ],
   "source": [
    "# A word that it does know\n",
    "print(TEXT.vocab['good'])\n",
    "print(TEXT.vocab['bad'])\n",
    "# An unknown word\n",
    "print(TEXT.vocab[\"notaword\"])"
   ]
  },
  {
   "cell_type": "markdown",
   "metadata": {},
   "source": [
    "Next up we have the iterator. We will print one batch. "
   ]
  },
  {
   "cell_type": "code",
   "execution_count": 10,
   "metadata": {},
   "outputs": [
    {
     "name": "stdout",
     "output_type": "stream",
     "text": [
      "\n",
      "[torchtext.data.batch.Batch of size 64 from IMDB]\n",
      "\t[.text]:[torch.cuda.LongTensor of size 64x100 (GPU 0)]\n",
      "\t[.label]:[torch.cuda.LongTensor of size 64 (GPU 0)]\n",
      "tensor([  0, 552, 139,   9, 273, 182,   5,  10,  19,   0,   0,  57,   0,   0,\n",
      "         15,   9, 273,   3,   0,   0, 131,   4,   0,   6,   0,   0,  23,   3,\n",
      "        615, 431,  34,   2,   0,   5,   0,  90, 208, 547,   6,   0, 237,   0,\n",
      "          3,   0,  12,  14,  38,  97,  12,  95,  87, 171,   6,   0,   0,   0,\n",
      "          0,   0, 101, 197,   4,   0,   0,  90,   0,   9, 118, 100, 129,  22,\n",
      "        247,   8,   0,   0,   6,   0,   8,  19,   2,   0,   5,   3, 312, 342,\n",
      "         40,   0,  18,   0,   0, 134,   3, 105,   0,  16, 111,   0,  44, 753,\n",
      "          4, 860])\n",
      "tensor([1, 1, 2, 2, 1, 1, 1, 1, 2, 2, 1, 2, 2, 1, 1, 1, 2, 1, 2, 1, 2, 2, 2, 1,\n",
      "        1, 2, 1, 1, 2, 1, 2, 2, 2, 2, 2, 1, 2, 1, 2, 1, 2, 2, 2, 2, 1, 1, 1, 1,\n",
      "        2, 1, 2, 2, 2, 1, 1, 2, 2, 1, 1, 2, 2, 1, 2, 1])\n"
     ]
    }
   ],
   "source": [
    "#### explore the output of the iterator\n",
    "\n",
    "for i, batch in enumerate(train_iter):\n",
    "    print(batch)\n",
    "    print(batch.text[0])\n",
    "    print(batch.label)\n",
    "    break"
   ]
  },
  {
   "cell_type": "markdown",
   "metadata": {},
   "source": [
    "As you can see the text is now a tensor containing a number for each word.\n",
    "The label are 1 -> negative and 2 -> positive. We will substract 1 during training to make sure it becomes 0 and 1. \n",
    "\n",
    "Now that we have the data al set up we can build a model. "
   ]
  },
  {
   "cell_type": "markdown",
   "metadata": {},
   "source": [
    "### The model\n",
    "\n",
    "Build a simple lstm model, using an embedding layer as the first layer, then a recurrent layer (lstm or gru) and to finish a fully connected layer that maps to 1 value, and finally use a sigmoid to make sure that this value is between 0 and 1. "
   ]
  },
  {
   "cell_type": "code",
   "execution_count": 11,
   "metadata": {},
   "outputs": [],
   "source": [
    "import torch.nn as nn \n",
    "from torch.nn import functional as F"
   ]
  },
  {
   "cell_type": "code",
   "execution_count": 16,
   "metadata": {},
   "outputs": [],
   "source": [
    "\n",
    "\n",
    "class LSTMModel(nn.Module):\n",
    "\n",
    "    ### your code here ###\n",
    "    def __init__(self, num_words, n_hidden):\n",
    "        super(LSTMModel, self).__init__()\n",
    "        self.embedding = nn.Embedding(num_words, n_hidden)\n",
    "        self.LSTM = nn.GRU(n_hidden, n_hidden, batch_first=True, dropout=0.2)\n",
    "        \n",
    "        self.fc = nn.Linear(n_hidden , 1)\n",
    "\n",
    "    def forward(self, review):\n",
    "        \n",
    "        x = self.embedding(review)\n",
    "        \n",
    "        rnn_out, _ = self.LSTM(x)\n",
    "     \n",
    "        fc_out = self.fc(rnn_out[:, -1 ]) # Only need the last output of the rnn\n",
    "        \n",
    "        return torch.sigmoid(fc_out)\n",
    "    ### your code here end ###\n",
    "    \n",
    "\n"
   ]
  },
  {
   "cell_type": "code",
   "execution_count": 17,
   "metadata": {},
   "outputs": [
    {
     "data": {
      "text/plain": [
       "LSTMModel(\n",
       "  (embedding): Embedding(1004, 128)\n",
       "  (LSTM): GRU(128, 128, batch_first=True, dropout=0.2)\n",
       "  (fc): Linear(in_features=128, out_features=1, bias=True)\n",
       ")"
      ]
     },
     "execution_count": 17,
     "metadata": {},
     "output_type": "execute_result"
    }
   ],
   "source": [
    "# Initialize the model\n",
    "\n",
    "### your code here ###\n",
    "num_words  = len(TEXT.vocab)\n",
    "n_hidden = 128\n",
    "model = LSTMModel(num_words + 2, n_hidden)\n",
    "model.to(device)\n",
    "### your code here end ###"
   ]
  },
  {
   "cell_type": "code",
   "execution_count": 18,
   "metadata": {},
   "outputs": [],
   "source": [
    "\n",
    "# A train and test function made for you. \n",
    "def train(train_iterator, model, criterion, optimizer, n_epochs, test_callback=None):\n",
    "    loss_history = []\n",
    "    test_history = []\n",
    "    for epoch in range(1, n_epochs + 1):\n",
    "        epoch_total_loss = 0\n",
    "        \n",
    "        total = 0\n",
    "        correct = 0\n",
    "        \n",
    "        for i, batch in enumerate(train_iterator):\n",
    "            optimizer.zero_grad() # Clears existing gradients from previous epoch\n",
    "\n",
    "            output = model(batch.text)\n",
    "\n",
    "            loss = criterion(output, (batch.label).float().view(-1, 1) - 1) ### Make sure the labels are either 0 or 1. \n",
    "\n",
    "            loss.backward() # Does backpropagation and calculates gradients\n",
    "            optimizer.step() # Updates the weights accordingly\n",
    "\n",
    "            epoch_total_loss += loss.item() # Keep track of the total loss\n",
    "            \n",
    "            #Caclucate the accuracy\n",
    "            total += len(batch)\n",
    "            predicted = torch.round(output.data)\n",
    "            correct += (predicted == (batch.label -1).view(-1, 1)).sum().item()\n",
    "            \n",
    "        loss_history.append(epoch_total_loss/len(train_iter))\n",
    "        \n",
    "        if test_callback != None:\n",
    "            test_history.append(test_callback(model, criterion))\n",
    "\n",
    "        print('Epoch: {}/{}.............'.format(epoch, n_epochs), end=' ')\n",
    "        print(\"Loss: {:.4f}\".format(epoch_total_loss/ len(train_iter)))\n",
    "        print(\"accuracy: {:.4f}\".format(correct/total))\n",
    "    return loss_history, test_history\n",
    "\n",
    "\n",
    "def test(model, criterion, dataloader):\n",
    "    model.eval()\n",
    "    total = 0\n",
    "    correct = 0\n",
    "    with torch.no_grad():\n",
    "        total_loss = 0\n",
    "        \n",
    "        for i, batch in enumerate(dataloader):\n",
    "            output = model(batch.text)\n",
    "\n",
    "            loss = criterion(output, (batch.label - 1).float().view(-1, 1))\n",
    "            total_loss += loss.item()\n",
    "            predicted = torch.round(output.data)\n",
    "    \n",
    "            total += len(batch)\n",
    "            \n",
    "            correct += (predicted == (batch.label -1).view(-1, 1)).sum().item()\n",
    "        print(\"Test loss: {:.4f}\".format(total_loss/len(dataloader)))\n",
    "        print(\"test accuracy: {:.4f}\".format(correct/total))\n",
    "    model.train()\n",
    "    return total_loss/len(dataloader)\n",
    "            \n",
    "\n",
    "\n",
    "    "
   ]
  },
  {
   "cell_type": "code",
   "execution_count": 19,
   "metadata": {},
   "outputs": [
    {
     "name": "stdout",
     "output_type": "stream",
     "text": [
      "Test loss: 0.6913\n",
      "test accuracy: 0.5263\n",
      "Epoch: 1/20............. Loss: 0.6928\n",
      "accuracy: 0.5152\n",
      "Test loss: 0.6892\n",
      "test accuracy: 0.5400\n",
      "Epoch: 2/20............. Loss: 0.6881\n",
      "accuracy: 0.5404\n",
      "Test loss: 0.6759\n",
      "test accuracy: 0.5757\n",
      "Epoch: 3/20............. Loss: 0.6816\n",
      "accuracy: 0.5640\n",
      "Test loss: 0.6171\n",
      "test accuracy: 0.6737\n",
      "Epoch: 4/20............. Loss: 0.6428\n",
      "accuracy: 0.6336\n",
      "Test loss: 0.5958\n",
      "test accuracy: 0.6854\n",
      "Epoch: 5/20............. Loss: 0.5962\n",
      "accuracy: 0.6898\n",
      "Test loss: 0.5556\n",
      "test accuracy: 0.7212\n",
      "Epoch: 6/20............. Loss: 0.5573\n",
      "accuracy: 0.7190\n",
      "Test loss: 0.5254\n",
      "test accuracy: 0.7406\n",
      "Epoch: 7/20............. Loss: 0.5259\n",
      "accuracy: 0.7416\n",
      "Test loss: 0.5095\n",
      "test accuracy: 0.7485\n",
      "Epoch: 8/20............. Loss: 0.5022\n",
      "accuracy: 0.7570\n",
      "Test loss: 0.4946\n",
      "test accuracy: 0.7584\n",
      "Epoch: 9/20............. Loss: 0.4857\n",
      "accuracy: 0.7676\n",
      "Test loss: 0.4889\n",
      "test accuracy: 0.7623\n",
      "Epoch: 10/20............. Loss: 0.4693\n",
      "accuracy: 0.7770\n",
      "Test loss: 0.4785\n",
      "test accuracy: 0.7674\n",
      "Epoch: 11/20............. Loss: 0.4598\n",
      "accuracy: 0.7823\n",
      "Test loss: 0.4809\n",
      "test accuracy: 0.7664\n",
      "Epoch: 12/20............. Loss: 0.4474\n",
      "accuracy: 0.7898\n",
      "Test loss: 0.4815\n",
      "test accuracy: 0.7669\n",
      "Epoch: 13/20............. Loss: 0.4385\n",
      "accuracy: 0.7930\n",
      "Test loss: 0.4715\n",
      "test accuracy: 0.7711\n",
      "Epoch: 14/20............. Loss: 0.4297\n",
      "accuracy: 0.7990\n",
      "Test loss: 0.4680\n",
      "test accuracy: 0.7718\n",
      "Epoch: 15/20............. Loss: 0.4229\n",
      "accuracy: 0.8039\n",
      "Test loss: 0.4742\n",
      "test accuracy: 0.7735\n",
      "Epoch: 16/20............. Loss: 0.4153\n",
      "accuracy: 0.8064\n",
      "Test loss: 0.4739\n",
      "test accuracy: 0.7745\n",
      "Epoch: 17/20............. Loss: 0.4082\n",
      "accuracy: 0.8104\n",
      "Test loss: 0.4688\n",
      "test accuracy: 0.7715\n",
      "Epoch: 18/20............. Loss: 0.4064\n",
      "accuracy: 0.8104\n",
      "Test loss: 0.4798\n",
      "test accuracy: 0.7697\n",
      "Epoch: 19/20............. Loss: 0.3966\n",
      "accuracy: 0.8185\n",
      "Test loss: 0.4663\n",
      "test accuracy: 0.7766\n",
      "Epoch: 20/20............. Loss: 0.3903\n",
      "accuracy: 0.8197\n"
     ]
    },
    {
     "data": {
      "text/plain": [
       "([0.6927843439914382,\n",
       "  0.6880668511476054,\n",
       "  0.6816020373188322,\n",
       "  0.6427847087535712,\n",
       "  0.5961577418210257,\n",
       "  0.5573450424482146,\n",
       "  0.5259499501084428,\n",
       "  0.5022134029346964,\n",
       "  0.48571262647733665,\n",
       "  0.4693160699608991,\n",
       "  0.4597640252479202,\n",
       "  0.44735416480342444,\n",
       "  0.4385412686773578,\n",
       "  0.4297178965395369,\n",
       "  0.42292078491062157,\n",
       "  0.4152733393184974,\n",
       "  0.40824065145934024,\n",
       "  0.40643808443832885,\n",
       "  0.39659374982804596,\n",
       "  0.3902866379607974],\n",
       " [0.6913130013534176,\n",
       "  0.689219329973011,\n",
       "  0.6759096562405071,\n",
       "  0.6171248371491347,\n",
       "  0.5957660841210114,\n",
       "  0.5556196610793434,\n",
       "  0.5253527847397358,\n",
       "  0.5095439605090929,\n",
       "  0.4945890554000654,\n",
       "  0.4888618900190534,\n",
       "  0.4784829840635705,\n",
       "  0.48088316402167003,\n",
       "  0.48147571117371857,\n",
       "  0.47148097819074647,\n",
       "  0.46796259691800607,\n",
       "  0.474194520536591,\n",
       "  0.473863754316669,\n",
       "  0.46879534392862976,\n",
       "  0.4797502360151857,\n",
       "  0.46634570484423576])"
      ]
     },
     "execution_count": 19,
     "metadata": {},
     "output_type": "execute_result"
    }
   ],
   "source": [
    "# Call the train and test functions with the appropiate inputs.\n",
    "\n",
    "### your code here ###\n",
    "criterion = nn.BCELoss()\n",
    "optimizer = torch.optim.Adam(model.parameters() , 1e-4)\n",
    "test_callback = lambda model, criterion: test(model, criterion, test_iter) # Creates a callback that can be used to test the network on the given dataloader\n",
    "\n",
    "train(train_iter, model, criterion, optimizer, 20, test_callback=test_callback)\n",
    "\n",
    "### your code here end ###\n",
    "\n"
   ]
  },
  {
   "cell_type": "markdown",
   "metadata": {},
   "source": [
    "Lastly we look at the result of the model. \n",
    "\n",
    "\n",
    "Make a function that given a review and your trained model, gives back a score on how positive it was. 0 being negative and 1 being positive.\n",
    "\n",
    "Make sure to call model.eval() and model.train()"
   ]
  },
  {
   "cell_type": "code",
   "execution_count": 20,
   "metadata": {},
   "outputs": [],
   "source": [
    "\n",
    "import numpy as np\n",
    "def predict(review, model):\n",
    "    ### your code here ###\n",
    "    model.eval()\n",
    "    text = torch.tensor([[TEXT.vocab[token] for token in TEXT.tokenize(review)]])\n",
    "    result = model(text)\n",
    "    model.train()\n",
    "    return result\n",
    "\n",
    "    ### your code here end ###"
   ]
  },
  {
   "cell_type": "code",
   "execution_count": 22,
   "metadata": {},
   "outputs": [
    {
     "data": {
      "text/plain": [
       "tensor([[0.2686]], grad_fn=<SigmoidBackward>)"
      ]
     },
     "execution_count": 22,
     "metadata": {},
     "output_type": "execute_result"
    }
   ],
   "source": [
    "predict(\"bad\", model)"
   ]
  },
  {
   "cell_type": "code",
   "execution_count": 29,
   "metadata": {},
   "outputs": [],
   "source": [
    "reviews = [\n",
    "    \"excellent movie\",\n",
    "    \"i really liked this movie \",\n",
    "    \"this movie really sucked !\",\n",
    "    \"bad movie!\",\n",
    "]"
   ]
  },
  {
   "cell_type": "code",
   "execution_count": 30,
   "metadata": {},
   "outputs": [
    {
     "name": "stdout",
     "output_type": "stream",
     "text": [
      "excellent movie tensor([[0.7247]], grad_fn=<SigmoidBackward>) \n",
      "\n",
      "i really liked this movie  tensor([[0.6467]], grad_fn=<SigmoidBackward>) \n",
      "\n",
      "this movie really sucked ! tensor([[0.4783]], grad_fn=<SigmoidBackward>) \n",
      "\n",
      "bad movie! tensor([[0.2956]], grad_fn=<SigmoidBackward>) \n",
      "\n"
     ]
    }
   ],
   "source": [
    "for review in reviews:\n",
    "    print(review, predict(review, model) , '\\n')"
   ]
  },
  {
   "cell_type": "markdown",
   "metadata": {},
   "source": [
    "### Improving the model\n",
    "\n",
    "Next up you will be improving this model\n",
    "\n",
    "For the embedding layer we will use the a pretrained word embedding called glove. See: https://nlp.stanford.edu/projects/glove/\n",
    "\n",
    "We will first load glove into word vectors and then preprocess the dataset with these vectors. This is needed because each word must map to the same index that is used in the glove word embedding. "
   ]
  },
  {
   "cell_type": "code",
   "execution_count": 31,
   "metadata": {},
   "outputs": [],
   "source": [
    "from torchtext.vocab import Vectors\n",
    "glove = Vectors(name=\"./glove/glove.6B.100d.txt\")"
   ]
  },
  {
   "cell_type": "code",
   "execution_count": 32,
   "metadata": {},
   "outputs": [],
   "source": [
    "from torchtext import data, datasets\n",
    "\n",
    "# set up fields again.\n",
    "TEXT = data.Field(lower=True, batch_first=True, fix_length=100)\n",
    "LABEL = data.Field(sequential=False)\n",
    "\n",
    "# make splits for data\n",
    "train_set, test_set = datasets.IMDB.splits(TEXT, LABEL)\n",
    "\n",
    "# build the vocabulary, this time with help of the glove vectors. \n",
    "#We provide the vectors, such that we only add words that we have a vector for in our vocab\n",
    "TEXT.build_vocab(train_set, vectors=glove, max_size=1000)\n",
    "LABEL.build_vocab(train_set)\n",
    "\n",
    "# make iterator for splits\n",
    "train_iter_glove, test_iter_glove = data.Iterator.splits(\n",
    "    (train_set, test_set), batch_size=64)"
   ]
  },
  {
   "cell_type": "markdown",
   "metadata": {},
   "source": [
    "Now we look at the output of the vocab. Notice that the indexes are still the same, that is because they are sorted on the frequency of occurences. "
   ]
  },
  {
   "cell_type": "code",
   "execution_count": 41,
   "metadata": {},
   "outputs": [
    {
     "name": "stdout",
     "output_type": "stream",
     "text": [
      "56\n",
      "97\n",
      "0\n"
     ]
    }
   ],
   "source": [
    "# A word that it does know\n",
    "print(TEXT.vocab['good'])\n",
    "print(TEXT.vocab['bad'])\n",
    "# An unknown word\n",
    "print(TEXT.vocab[\"notaword\"])"
   ]
  },
  {
   "cell_type": "markdown",
   "metadata": {},
   "source": [
    "Now we look at the output of the iterator. This has changed."
   ]
  },
  {
   "cell_type": "code",
   "execution_count": 43,
   "metadata": {},
   "outputs": [
    {
     "name": "stdout",
     "output_type": "stream",
     "text": [
      "\n",
      "[torchtext.data.batch.Batch of size 64 from IMDB]\n",
      "\t[.text]:[torch.cuda.LongTensor of size 64x100 (GPU 0)]\n",
      "\t[.label]:[torch.cuda.LongTensor of size 64 (GPU 0)]\n",
      "tensor([[ 10,  20,   0,  ...,   1,   1,   1],\n",
      "        [ 46,  25,  22,  ..., 127,   0, 123],\n",
      "        [  9, 120, 560,  ..., 773,   0, 521],\n",
      "        ...,\n",
      "        [  9,   0,  10,  ...,   0,   0,  44],\n",
      "        [  2,   0,   0,  ...,   0, 992,   0],\n",
      "        [ 10,  24,  14,  ...,   0,   0,   0]])\n",
      "torch.Size([64, 100])\n",
      "tensor([2, 1, 1, 1, 2, 1, 1, 1, 2, 2, 1, 1, 1, 2, 2, 1, 1, 2, 1, 1, 1, 1, 1, 1,\n",
      "        2, 1, 2, 1, 2, 1, 2, 1, 2, 2, 1, 2, 1, 1, 2, 2, 2, 1, 2, 2, 2, 2, 1, 2,\n",
      "        1, 1, 2, 1, 1, 1, 2, 2, 2, 2, 1, 1, 2, 2, 2, 2])\n"
     ]
    }
   ],
   "source": [
    "for i, batch in enumerate(train_iter):\n",
    "    print(batch)\n",
    "    print(batch.text)\n",
    "    print(batch.text.shape)\n",
    "    print(batch.label)\n",
    "    break"
   ]
  },
  {
   "cell_type": "markdown",
   "metadata": {},
   "source": [
    "#### Building the improved model\n",
    "\n",
    "Build the improved model. Use the same architecture as before, but instead of a standard word embedding vector use the glove word embedding vector.\n",
    "\n",
    "See https://pytorch.org/docs/stable/generated/torch.nn.Embedding.html#torch.nn.Embedding for a hint on how to use the pretrained glove. "
   ]
  },
  {
   "cell_type": "code",
   "execution_count": 44,
   "metadata": {},
   "outputs": [],
   "source": [
    "\n",
    "\n",
    "\n",
    "class GloveModel(nn.Module):\n",
    "    ### your code here ###\n",
    "    def __init__(self, vocab_size, embedding_dim, n_hidden, n_out, pretrained_vec):\n",
    "        super().__init__()\n",
    "        self.vocab_size = vocab_size\n",
    "        self.embedding_dim = embedding_dim\n",
    "        self.n_hidden = n_hidden\n",
    "        self.n_out = n_out\n",
    "        \n",
    "        \n",
    "        self.emb = nn.Embedding(self.vocab_size, self.embedding_dim, )\n",
    "        self.emb.weight.data.copy_(pretrained_vec) # load pretrained vectors\n",
    "        self.emb.weight.requires_grad = True # make embedding non trainable\n",
    "        self.gru = nn.GRU(self.embedding_dim, self.n_hidden, batch_first=True)\n",
    "        self.out = nn.Linear(self.n_hidden, 1)\n",
    "        \n",
    "    def forward(self, seq):\n",
    "        embs = self.emb(seq)\n",
    "        gru_out, self.h = self.gru(embs)\n",
    "        outp = self.out(gru_out[:, -1])\n",
    "        return torch.sigmoid(outp)\n",
    "    ### your code here end ###\n"
   ]
  },
  {
   "cell_type": "code",
   "execution_count": 45,
   "metadata": {},
   "outputs": [
    {
     "data": {
      "text/plain": [
       "GloveModel(\n",
       "  (emb): Embedding(1002, 100)\n",
       "  (gru): GRU(100, 128, batch_first=True)\n",
       "  (out): Linear(in_features=128, out_features=1, bias=True)\n",
       ")"
      ]
     },
     "execution_count": 45,
     "metadata": {},
     "output_type": "execute_result"
    }
   ],
   "source": [
    "# Create your model\n",
    "\n",
    "### your code here ###\n",
    "vocab_size = len(TEXT.vocab)\n",
    "embedding_dim = 100\n",
    "n_hidden = 128\n",
    "m = GloveModel(vocab_size, embedding_dim, n_hidden, 1, \n",
    "                             train_set.fields['text'].vocab.vectors)\n",
    "m.to(device)\n",
    "\n",
    "### your code here end ###"
   ]
  },
  {
   "cell_type": "code",
   "execution_count": 46,
   "metadata": {},
   "outputs": [
    {
     "name": "stdout",
     "output_type": "stream",
     "text": [
      "Test loss: 0.4794\n",
      "test accuracy: 0.7646\n",
      "Epoch: 1/20............. Loss: 0.5642\n",
      "accuracy: 0.6866\n",
      "Test loss: 0.4990\n",
      "test accuracy: 0.7572\n",
      "Epoch: 2/20............. Loss: 0.4718\n",
      "accuracy: 0.7735\n",
      "Test loss: 0.4861\n",
      "test accuracy: 0.7608\n",
      "Epoch: 3/20............. Loss: 0.4713\n",
      "accuracy: 0.7724\n",
      "Test loss: 0.4828\n",
      "test accuracy: 0.7626\n",
      "Epoch: 4/20............. Loss: 0.4615\n",
      "accuracy: 0.7765\n",
      "Test loss: 0.4861\n",
      "test accuracy: 0.7592\n",
      "Epoch: 5/20............. Loss: 0.4520\n",
      "accuracy: 0.7860\n",
      "Test loss: 0.4897\n",
      "test accuracy: 0.7616\n",
      "Epoch: 6/20............. Loss: 0.4438\n",
      "accuracy: 0.7918\n",
      "Test loss: 0.4939\n",
      "test accuracy: 0.7560\n",
      "Epoch: 7/20............. Loss: 0.4482\n",
      "accuracy: 0.7872\n",
      "Test loss: 0.4931\n",
      "test accuracy: 0.7585\n",
      "Epoch: 8/20............. Loss: 0.4404\n",
      "accuracy: 0.7927\n",
      "Test loss: 0.5036\n",
      "test accuracy: 0.7533\n",
      "Epoch: 9/20............. Loss: 0.4411\n",
      "accuracy: 0.7899\n",
      "Test loss: 0.5027\n",
      "test accuracy: 0.7539\n",
      "Epoch: 10/20............. Loss: 0.4483\n",
      "accuracy: 0.7849\n",
      "Test loss: 0.5015\n",
      "test accuracy: 0.7546\n",
      "Epoch: 11/20............. Loss: 0.4480\n",
      "accuracy: 0.7858\n",
      "Test loss: 0.5050\n",
      "test accuracy: 0.7538\n",
      "Epoch: 12/20............. Loss: 0.4593\n",
      "accuracy: 0.7795\n",
      "Test loss: 0.5145\n",
      "test accuracy: 0.7493\n",
      "Epoch: 13/20............. Loss: 0.4529\n",
      "accuracy: 0.7798\n",
      "Test loss: 0.5111\n",
      "test accuracy: 0.7503\n",
      "Epoch: 14/20............. Loss: 0.4532\n",
      "accuracy: 0.7823\n",
      "Test loss: 0.5077\n",
      "test accuracy: 0.7509\n",
      "Epoch: 15/20............. Loss: 0.4517\n",
      "accuracy: 0.7806\n",
      "Test loss: 0.5096\n",
      "test accuracy: 0.7476\n",
      "Epoch: 16/20............. Loss: 0.4495\n",
      "accuracy: 0.7819\n",
      "Test loss: 0.5195\n",
      "test accuracy: 0.7437\n",
      "Epoch: 17/20............. Loss: 0.4609\n",
      "accuracy: 0.7806\n",
      "Test loss: 0.5195\n",
      "test accuracy: 0.7418\n",
      "Epoch: 18/20............. Loss: 0.4652\n",
      "accuracy: 0.7750\n",
      "Test loss: 0.5360\n",
      "test accuracy: 0.7419\n",
      "Epoch: 19/20............. Loss: 0.4595\n",
      "accuracy: 0.7804\n",
      "Test loss: 0.5188\n",
      "test accuracy: 0.7478\n",
      "Epoch: 20/20............. Loss: 0.4551\n",
      "accuracy: 0.7826\n"
     ]
    },
    {
     "data": {
      "text/plain": [
       "([0.5641851957191897,\n",
       "  0.47183393586017286,\n",
       "  0.47126758472084085,\n",
       "  0.4614529875690675,\n",
       "  0.452008411250151,\n",
       "  0.44377186452336326,\n",
       "  0.44821373657192415,\n",
       "  0.44036970655326646,\n",
       "  0.4410761331810671,\n",
       "  0.4483019495406724,\n",
       "  0.4479513313916638,\n",
       "  0.459264839472978,\n",
       "  0.45289395273189104,\n",
       "  0.45318664896213795,\n",
       "  0.45171852657557143,\n",
       "  0.4495169467785779,\n",
       "  0.4609440773954172,\n",
       "  0.4652392120312547,\n",
       "  0.4594708702448384,\n",
       "  0.4550710610873864],\n",
       " [0.479434857283102,\n",
       "  0.49895469508969875,\n",
       "  0.4861139400535837,\n",
       "  0.4827610689127232,\n",
       "  0.48609102008592747,\n",
       "  0.4896632599861116,\n",
       "  0.4938630996762639,\n",
       "  0.49308759492376575,\n",
       "  0.5036234739415176,\n",
       "  0.5026691366568246,\n",
       "  0.5015409544605733,\n",
       "  0.5049723195450385,\n",
       "  0.5145088083603803,\n",
       "  0.511075034242152,\n",
       "  0.5076713148895127,\n",
       "  0.5096205844141334,\n",
       "  0.5195085641063387,\n",
       "  0.5194622777459567,\n",
       "  0.5360191105043187,\n",
       "  0.5187718299648646])"
      ]
     },
     "execution_count": 46,
     "metadata": {},
     "output_type": "execute_result"
    }
   ],
   "source": [
    "#Finaly train the model\n",
    "\n",
    "### your code here ###\n",
    "\n",
    "criterion = nn.BCELoss()\n",
    "optimizer = torch.optim.Adam(m.parameters() , 1e-2)\n",
    "test_callback = lambda model, criterion: test(model, criterion, test_iter_glove) # Creates a callback that can be used to test the network on the given dataloader\n",
    "\n",
    "train(train_iter_glove, m, criterion, optimizer, 20, test_callback=test_callback)\n",
    "\n",
    "### your code here end ###"
   ]
  },
  {
   "cell_type": "markdown",
   "metadata": {},
   "source": [
    "Lastly we will evualate this model. "
   ]
  },
  {
   "cell_type": "code",
   "execution_count": 49,
   "metadata": {},
   "outputs": [],
   "source": [
    "# Create a function that takes in a review and your glove model and gives back the sentiment score. \n",
    "def predict_glove(review, model):\n",
    "    ### Your code here ###\n",
    "    model.eval()\n",
    "    text = torch.tensor([[TEXT.vocab[token] for token in TEXT.tokenize(review)]])\n",
    "    result = model(text)\n",
    "    model.train()\n",
    "    return result\n",
    "    ### Your code here end ###"
   ]
  },
  {
   "cell_type": "code",
   "execution_count": 50,
   "metadata": {},
   "outputs": [],
   "source": [
    "reviews = [\n",
    "    \"excellent movie\",\n",
    "    \"I really liked this movie !\",\n",
    "    \"This movie is really bad !\",\n",
    "    \"best movie ever!\",\n",
    "    \"A Eggsellent movie\"\n",
    "]"
   ]
  },
  {
   "cell_type": "code",
   "execution_count": 51,
   "metadata": {},
   "outputs": [
    {
     "name": "stdout",
     "output_type": "stream",
     "text": [
      "excellent movie tensor([[0.9945]], grad_fn=<SigmoidBackward>) \n",
      "\n",
      "I really liked this movie ! tensor([[0.8516]], grad_fn=<SigmoidBackward>) \n",
      "\n",
      "This movie is really bad ! tensor([[0.0107]], grad_fn=<SigmoidBackward>) \n",
      "\n",
      "best movie ever! tensor([[0.9756]], grad_fn=<SigmoidBackward>) \n",
      "\n",
      "A Eggsellent movie tensor([[0.6233]], grad_fn=<SigmoidBackward>) \n",
      "\n"
     ]
    }
   ],
   "source": [
    "for review in reviews:\n",
    "    print(review, predict_glove(review, m) , '\\n')"
   ]
  },
  {
   "cell_type": "code",
   "execution_count": null,
   "metadata": {},
   "outputs": [],
   "source": []
  }
 ],
 "metadata": {
  "kernelspec": {
   "display_name": "Python 3",
   "language": "python",
   "name": "python3"
  },
  "language_info": {
   "codemirror_mode": {
    "name": "ipython",
    "version": 3
   },
   "file_extension": ".py",
   "mimetype": "text/x-python",
   "name": "python",
   "nbconvert_exporter": "python",
   "pygments_lexer": "ipython3",
   "version": "3.8.5"
  }
 },
 "nbformat": 4,
 "nbformat_minor": 4
}
