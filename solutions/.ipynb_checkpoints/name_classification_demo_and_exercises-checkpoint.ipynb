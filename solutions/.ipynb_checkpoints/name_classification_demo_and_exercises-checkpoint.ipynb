{
 "cells": [
  {
   "cell_type": "markdown",
   "metadata": {},
   "source": [
    "### Name Classification \n",
    "Based on https://pytorch.org/tutorials/intermediate/char_rnn_classification_tutorial.html\n",
    "\n",
    "In this notebook we will classify names with the help of pytorch. The names that we look at will be from 18 different languages.\n",
    "\n",
    "We will show the following\n",
    "\n",
    "1) The dataset class and dataloader from pytorch\n",
    "\n",
    "2) A basic neural network\n",
    "\n",
    "3) Rnn, lstm and Gru.\n"
   ]
  },
  {
   "cell_type": "markdown",
   "metadata": {},
   "source": [
    "### The dataset\n",
    "\n",
    "Our dataset consists of names from different languages, e.g. Hanz is a german name, Antonowitsch is a Czech name etc...\n",
    "\n",
    "We must think of a way of repressenting these names, such that a neural network can work with it.\n",
    "First of all, we need to make sure that the letters can be interpreted by a neural network, we do this by mapping each letter to a one-hot encoding. Secondly, we need to make sure that the input lenghts of every name is the same. We can solve this by using by padding each name with padding characters.\n",
    "\n",
    "We will start by some handy funcionts that will help us with this task.\n"
   ]
  },
  {
   "cell_type": "code",
   "execution_count": 1,
   "metadata": {},
   "outputs": [],
   "source": [
    "# First load all the relavent packages\n",
    "# Creating a custom dataset\n",
    "from io import open\n",
    "import glob\n",
    "import os\n",
    "\n",
    "import unicodedata\n",
    "import string\n",
    "import numpy as np"
   ]
  },
  {
   "cell_type": "code",
   "execution_count": 2,
   "metadata": {},
   "outputs": [],
   "source": [
    "\n",
    "all_letters = string.ascii_letters + \" .,;'\"  \"0\" #We add 0 to pad the sequences \n",
    "n_letters = len(all_letters)\n",
    "\n",
    "\n",
    "# Because some names have weird characters such as \"é\" we map them to standard Ascii caracters.\n",
    "# Basically maps weird characters to the standard 26 letter alphabet e.g. é -> e\n",
    "def unicode_to_ascii(s):\n",
    "    return ''.join(\n",
    "        c for c in unicodedata.normalize('NFD', s)\n",
    "        if unicodedata.category(c) != 'Mn'\n",
    "        and c in all_letters\n",
    "    )\n",
    "\n",
    "\n",
    "# Read the lines of a file\n",
    "def read_lines(filename):\n",
    "    lines = open(filename, encoding='utf-8').read().strip().split('\\n')\n",
    "    return [unicode_to_ascii(line) for line in lines]\n",
    "def find_files(path): return glob.glob(path)\n",
    "\n",
    "# Find the index of a letter in our alphabet\n",
    "def letter_to_index(letter):\n",
    "    return all_letters.find(letter)\n",
    "\n",
    "\n",
    "# Creates a tensor containing one-hot vectors for the name. \n",
    "def name_to_tensor(name):\n",
    "    tensor = torch.zeros(len(name), n_letters)\n",
    "    count = 0\n",
    "    for li, letter in enumerate(name):\n",
    "        tensor[li][letter_to_index(letter)] = 1\n",
    "    return tensor\n",
    "\n",
    "# Each categorie is also mapped to a tensor.\n",
    "def categorie_to_tensor(index, num_categories):\n",
    "    t = torch.zeros(num_categories, dtype=torch.long)\n",
    "    t[index] = 1.0\n",
    "    return t"
   ]
  },
  {
   "cell_type": "code",
   "execution_count": 3,
   "metadata": {},
   "outputs": [],
   "source": [
    "# We will now create dataset object that handles loading the data.\n",
    "from torch.utils.data import Dataset\n",
    "import torch\n",
    "\n",
    "# A dataset class needs to have 3 functions: __init__, __get_item__ and __len__\n",
    "class NameDataset(Dataset):\n",
    "    \n",
    "    def __init__(self, data_root):\n",
    "        self.samples = [] # Will contain the samples in the form (name, language)\n",
    "        self.all_categories = [] # list of all the different languages\n",
    "        \n",
    "        # We read each file in the folder and parses it to get the samples.\n",
    "        for filename in find_files( data_root + '*.txt'):\n",
    "            category = os.path.splitext(os.path.basename(filename))[0]\n",
    "            self.all_categories.append(category)\n",
    "            lines = read_lines(filename)\n",
    "            for line in lines:\n",
    "                self.samples.append((line, category))\n",
    "        \n",
    "        # Keeps track of the number of categories\n",
    "        self.num_categories = len(self.all_categories)\n",
    "        \n",
    "    \n",
    "        #pad the sequences to the appropiate length\n",
    "        self.pad_sequences()\n",
    "\n",
    "        #Lastly make sure that each name and categorie is a tensor\n",
    "        self.convert_samples_to_tensors()\n",
    "\n",
    "\n",
    "    def pad_sequences(self):\n",
    "        \n",
    "        #We want to pad the sequence to the length of the longest name.\n",
    "        self.max_len = np.max([len(name) for name, categorie in self.samples])\n",
    "        self.samples = [(name + \"0\" * (self.max_len - len(name)), categorie) for name, categorie in self.samples]\n",
    "        \n",
    "    def convert_samples_to_tensors(self):\n",
    "         self.samples = [(name_to_tensor(name), self.all_categories.index(language) ) for name, language in self.samples]\n",
    "        \n",
    "    def __len__(self):\n",
    "        return len(self.samples)\n",
    "\n",
    "    def __getitem__(self, idx):\n",
    "        return self.samples[idx]\n",
    "    \n"
   ]
  },
  {
   "cell_type": "code",
   "execution_count": 6,
   "metadata": {},
   "outputs": [],
   "source": [
    "### Next we initialize the dataset and put it into a dataloader, we also make a test set and a train set.\n",
    "from torch.utils.data import Dataset, DataLoader, random_split\n",
    "\n",
    "dataset = NameDataset('../names/')\n",
    "test_num = int(0.2 * len(dataset))\n",
    "train_num = len(dataset) - test_num\n",
    "train_dataset, test_dataset = random_split(dataset, [train_num, test_num])\n",
    "train_dataloader = DataLoader(train_dataset, batch_size=64, shuffle=True)\n",
    "test_dataloader = DataLoader(test_dataset, batch_size=64, shuffle=False) # No need to shuffle"
   ]
  },
  {
   "cell_type": "code",
   "execution_count": 7,
   "metadata": {},
   "outputs": [
    {
     "name": "stdout",
     "output_type": "stream",
     "text": [
      "[tensor([[[0., 0., 0.,  ..., 0., 0., 0.],\n",
      "         [0., 0., 0.,  ..., 0., 0., 0.],\n",
      "         [0., 0., 0.,  ..., 0., 0., 0.],\n",
      "         ...,\n",
      "         [0., 0., 0.,  ..., 0., 0., 1.],\n",
      "         [0., 0., 0.,  ..., 0., 0., 1.],\n",
      "         [0., 0., 0.,  ..., 0., 0., 1.]],\n",
      "\n",
      "        [[0., 0., 0.,  ..., 0., 0., 0.],\n",
      "         [0., 0., 0.,  ..., 0., 0., 0.],\n",
      "         [0., 0., 0.,  ..., 0., 0., 0.],\n",
      "         ...,\n",
      "         [0., 0., 0.,  ..., 0., 0., 1.],\n",
      "         [0., 0., 0.,  ..., 0., 0., 1.],\n",
      "         [0., 0., 0.,  ..., 0., 0., 1.]],\n",
      "\n",
      "        [[0., 0., 0.,  ..., 0., 0., 0.],\n",
      "         [0., 0., 0.,  ..., 0., 0., 0.],\n",
      "         [0., 0., 0.,  ..., 0., 0., 0.],\n",
      "         ...,\n",
      "         [0., 0., 0.,  ..., 0., 0., 1.],\n",
      "         [0., 0., 0.,  ..., 0., 0., 1.],\n",
      "         [0., 0., 0.,  ..., 0., 0., 1.]],\n",
      "\n",
      "        ...,\n",
      "\n",
      "        [[0., 0., 0.,  ..., 0., 0., 0.],\n",
      "         [1., 0., 0.,  ..., 0., 0., 0.],\n",
      "         [0., 0., 0.,  ..., 0., 0., 0.],\n",
      "         ...,\n",
      "         [0., 0., 0.,  ..., 0., 0., 1.],\n",
      "         [0., 0., 0.,  ..., 0., 0., 1.],\n",
      "         [0., 0., 0.,  ..., 0., 0., 1.]],\n",
      "\n",
      "        [[0., 0., 0.,  ..., 0., 0., 0.],\n",
      "         [0., 0., 0.,  ..., 0., 0., 0.],\n",
      "         [0., 0., 0.,  ..., 0., 0., 0.],\n",
      "         ...,\n",
      "         [0., 0., 0.,  ..., 0., 0., 1.],\n",
      "         [0., 0., 0.,  ..., 0., 0., 1.],\n",
      "         [0., 0., 0.,  ..., 0., 0., 1.]],\n",
      "\n",
      "        [[0., 0., 0.,  ..., 0., 0., 0.],\n",
      "         [1., 0., 0.,  ..., 0., 0., 0.],\n",
      "         [0., 0., 0.,  ..., 0., 0., 0.],\n",
      "         ...,\n",
      "         [0., 0., 0.,  ..., 0., 0., 1.],\n",
      "         [0., 0., 0.,  ..., 0., 0., 1.],\n",
      "         [0., 0., 0.,  ..., 0., 0., 1.]]]), tensor([ 4, 10, 14, 14, 14, 10,  6, 14,  4, 14,  8,  9, 12, 14, 14,  4, 14,  6,\n",
      "         9, 14,  0, 10,  1,  4,  5, 14, 14,  0, 14, 14, 10,  5,  0, 10,  0, 10,\n",
      "        14,  4, 14, 14, 10, 14,  4, 14,  4, 14,  4,  0,  3, 14,  0, 14, 14, 10,\n",
      "        14,  4,  4,  1,  0,  0, 14,  0, 12,  3])]\n",
      "torch.Size([64, 19, 58])\n"
     ]
    }
   ],
   "source": [
    "# We look at the dataset\n",
    "for i, batch in enumerate(train_dataloader):\n",
    "    print(batch)\n",
    "    print(batch[0].shape)\n",
    "    break"
   ]
  },
  {
   "cell_type": "markdown",
   "metadata": {},
   "source": [
    "### The neural network\n",
    "\n",
    "We will create a simple 3 layer feed forward neural network to start with. \n",
    "We do this by creating a class that extends nn.Module. For this we need to define two things:\n",
    "\n",
    "1) The '__init__' method\n",
    "\n",
    "2) The 'forward' function with gets as input a name and produces a vector containing the probabilities of that name belonging to each language"
   ]
  },
  {
   "cell_type": "code",
   "execution_count": 8,
   "metadata": {},
   "outputs": [],
   "source": [
    "import torch.nn as nn \n",
    "from torch.nn import functional as F # F contains functions that are not trainable, e.g. softmax, sigmoid, relu etc..\n",
    "\n",
    "class SmallNetwork(nn.Module):\n",
    "    \n",
    "    def __init__(self, input_len, n_letters):\n",
    "        super(SmallNetwork, self).__init__()\n",
    "        self.input_len = input_len\n",
    "        self.first_layer = nn.Linear(input_len * n_letters, 128)\n",
    "        self.second_layer = nn.Linear(128, 64)\n",
    "        self.output = nn.Linear(64, n_letters)\n",
    "        \n",
    "    def forward(self, name):\n",
    "        x =  name.view(-1, self.first_layer.in_features)\n",
    "        x = self.first_layer(x)\n",
    "        x = F.relu(x)\n",
    "        x = self.second_layer(x)\n",
    "        x = F.relu(x)\n",
    "        x = self.output(x)\n",
    "        return F.log_softmax(x, dim=-1)\n"
   ]
  },
  {
   "cell_type": "markdown",
   "metadata": {},
   "source": [
    "### Training\n",
    "\n",
    "Next up we define the train and test functions, and a way of plotting the results. \n",
    "\n"
   ]
  },
  {
   "cell_type": "code",
   "execution_count": 12,
   "metadata": {},
   "outputs": [],
   "source": [
    "import matplotlib.pyplot as plt\n",
    "def train(model,criterion, optimizer, n_epochs, dataloader, test_callback=None):\n",
    "    '''\n",
    "        Model: the model to train.\n",
    "        criterion: the loss function.\n",
    "        optimizer: the function that is used to update the weights.\n",
    "        n_epochs: number of epochs.\n",
    "        dataloader: the dataloader that is used to get samples.\n",
    "        test_callback: a callback that is used to test the model.\n",
    "    '''\n",
    "    loss_history = []\n",
    "    test_history = []\n",
    "    for epoch in range(1, n_epochs + 1):\n",
    "        epoch_total_loss = 0\n",
    "        for i, (names, cat) in enumerate(dataloader):\n",
    "            optimizer.zero_grad() # Clears existing gradients from previous epoch\n",
    "            \n",
    "            \n",
    "            output = model(names)\n",
    "\n",
    "            loss = criterion(output, cat)\n",
    "            loss.backward() # Does backpropagation and calculates gradients\n",
    "            optimizer.step() # Updates the weights accordingly\n",
    "            \n",
    "            epoch_total_loss += loss.item() # Keep track of the total loss\n",
    "        loss_history.append(epoch_total_loss/len(dataloader))\n",
    "        \n",
    "        if test_callback != None:\n",
    "            test_history.append(test_callback(model, criterion))\n",
    "\n",
    "        print('Epoch: {}/{}.............'.format(epoch, n_epochs), end=' ')\n",
    "        print(\"Loss: {:.4f}\".format(epoch_total_loss/ len(dataloader)))\n",
    "        \n",
    "        \n",
    "    return loss_history, test_history\n",
    "        \n",
    "        \n",
    "def test(model, criterion, dataloader):\n",
    "    with torch.no_grad():\n",
    "        total_loss = 0\n",
    "        for i, (names, cat) in enumerate(dataloader):\n",
    "            output = model(names)\n",
    "            loss = criterion(output, cat)\n",
    "            total_loss += loss.item()\n",
    "        print(\"Test loss: {:.4f}\".format(total_loss/len(dataloader)))\n",
    "    return total_loss/len(dataloader)\n",
    "            \n",
    "\n",
    "\n",
    "def plot_train_test_history(train_history, test_history):\n",
    "    x = [x for x in range(1, len(train_history)+ 1)]\n",
    "    plt.plot(x, train_history)\n",
    "    plt.plot(x, test_history)\n",
    "    plt.show()"
   ]
  },
  {
   "cell_type": "code",
   "execution_count": 13,
   "metadata": {},
   "outputs": [],
   "source": [
    "### Now we initialize the bunch\n",
    "small_net = SmallNetwork(dataset.max_len, n_letters)\n",
    "\n",
    "lr=0.01\n",
    "\n",
    "criterion = nn.NLLLoss()\n",
    "optimizer = torch.optim.Adam(small_net.parameters(), lr=lr)\n",
    "n_epochs = 50\n",
    "\n",
    "\n",
    "test_callback = lambda model, criterion: test(model, criterion, test_dataloader) # Creates a callback that can be used to test the network on the given dataloader\n"
   ]
  },
  {
   "cell_type": "code",
   "execution_count": 14,
   "metadata": {},
   "outputs": [
    {
     "name": "stdout",
     "output_type": "stream",
     "text": [
      "Test loss: 0.9856\n",
      "Epoch: 1/50............. Loss: 1.3180\n",
      "Test loss: 0.8154\n",
      "Epoch: 2/50............. Loss: 0.8901\n",
      "Test loss: 0.7820\n",
      "Epoch: 3/50............. Loss: 0.7364\n",
      "Test loss: 0.7655\n",
      "Epoch: 4/50............. Loss: 0.6407\n",
      "Test loss: 0.7536\n",
      "Epoch: 5/50............. Loss: 0.5654\n",
      "Test loss: 0.7920\n",
      "Epoch: 6/50............. Loss: 0.5100\n",
      "Test loss: 0.8201\n",
      "Epoch: 7/50............. Loss: 0.4628\n",
      "Test loss: 0.8512\n",
      "Epoch: 8/50............. Loss: 0.4189\n",
      "Test loss: 0.9060\n",
      "Epoch: 9/50............. Loss: 0.4011\n",
      "Test loss: 0.8870\n",
      "Epoch: 10/50............. Loss: 0.3727\n",
      "Test loss: 0.9692\n",
      "Epoch: 11/50............. Loss: 0.3473\n",
      "Test loss: 0.9693\n",
      "Epoch: 12/50............. Loss: 0.3234\n",
      "Test loss: 1.0289\n",
      "Epoch: 13/50............. Loss: 0.3180\n",
      "Test loss: 1.0555\n",
      "Epoch: 14/50............. Loss: 0.2912\n",
      "Test loss: 1.1071\n",
      "Epoch: 15/50............. Loss: 0.2965\n",
      "Test loss: 1.1535\n",
      "Epoch: 16/50............. Loss: 0.2763\n",
      "Test loss: 1.1594\n",
      "Epoch: 17/50............. Loss: 0.2740\n",
      "Test loss: 1.2257\n",
      "Epoch: 18/50............. Loss: 0.2742\n",
      "Test loss: 1.2996\n",
      "Epoch: 19/50............. Loss: 0.2527\n",
      "Test loss: 1.2940\n",
      "Epoch: 20/50............. Loss: 0.2457\n",
      "Test loss: 1.4336\n",
      "Epoch: 21/50............. Loss: 0.2389\n",
      "Test loss: 1.3752\n",
      "Epoch: 22/50............. Loss: 0.2414\n",
      "Test loss: 1.3656\n",
      "Epoch: 23/50............. Loss: 0.2337\n",
      "Test loss: 1.4062\n",
      "Epoch: 24/50............. Loss: 0.2280\n",
      "Test loss: 1.5536\n",
      "Epoch: 25/50............. Loss: 0.2085\n",
      "Test loss: 1.4648\n",
      "Epoch: 26/50............. Loss: 0.2310\n",
      "Test loss: 1.5295\n",
      "Epoch: 27/50............. Loss: 0.2138\n",
      "Test loss: 1.5414\n",
      "Epoch: 28/50............. Loss: 0.2078\n",
      "Test loss: 1.6028\n",
      "Epoch: 29/50............. Loss: 0.2090\n",
      "Test loss: 1.6187\n",
      "Epoch: 30/50............. Loss: 0.2129\n",
      "Test loss: 1.6170\n",
      "Epoch: 31/50............. Loss: 0.1897\n",
      "Test loss: 1.6655\n",
      "Epoch: 32/50............. Loss: 0.1869\n",
      "Test loss: 1.7471\n",
      "Epoch: 33/50............. Loss: 0.1957\n",
      "Test loss: 1.7556\n",
      "Epoch: 34/50............. Loss: 0.1868\n",
      "Test loss: 1.8486\n",
      "Epoch: 35/50............. Loss: 0.1807\n",
      "Test loss: 1.8642\n",
      "Epoch: 36/50............. Loss: 0.1806\n",
      "Test loss: 1.8640\n",
      "Epoch: 37/50............. Loss: 0.1717\n",
      "Test loss: 1.7617\n",
      "Epoch: 38/50............. Loss: 0.2074\n",
      "Test loss: 1.8690\n",
      "Epoch: 39/50............. Loss: 0.2089\n",
      "Test loss: 1.9468\n",
      "Epoch: 40/50............. Loss: 0.1721\n",
      "Test loss: 1.8646\n",
      "Epoch: 41/50............. Loss: 0.1913\n",
      "Test loss: 1.9785\n",
      "Epoch: 42/50............. Loss: 0.1767\n",
      "Test loss: 1.9995\n",
      "Epoch: 43/50............. Loss: 0.1706\n",
      "Test loss: 1.9942\n",
      "Epoch: 44/50............. Loss: 0.1656\n",
      "Test loss: 2.2068\n",
      "Epoch: 45/50............. Loss: 0.1956\n",
      "Test loss: 2.0554\n",
      "Epoch: 46/50............. Loss: 0.1916\n",
      "Test loss: 2.0075\n",
      "Epoch: 47/50............. Loss: 0.1612\n",
      "Test loss: 2.1367\n",
      "Epoch: 48/50............. Loss: 0.1556\n",
      "Test loss: 2.1839\n",
      "Epoch: 49/50............. Loss: 0.1583\n",
      "Test loss: 2.1902\n",
      "Epoch: 50/50............. Loss: 0.1635\n"
     ]
    }
   ],
   "source": [
    "# Lastly the actual training\n",
    "train_history, test_history = train(small_net, criterion, optimizer, n_epochs, train_dataloader, test_callback=test_callback)"
   ]
  },
  {
   "cell_type": "code",
   "execution_count": 15,
   "metadata": {},
   "outputs": [
    {
     "data": {
      "image/png": "[encoded data removed]",
      "text/plain": [
       "<Figure size 432x288 with 1 Axes>"
      ]
     },
     "metadata": {
      "needs_background": "light"
     },
     "output_type": "display_data"
    }
   ],
   "source": [
    "plot_train_test_history(train_history, test_history)"
   ]
  },
  {
   "cell_type": "code",
   "execution_count": 16,
   "metadata": {},
   "outputs": [],
   "source": [
    "# As you can see there is a lot of overfitting, one easy way to counteract this is with early stopping\n"
   ]
  },
  {
   "cell_type": "code",
   "execution_count": 17,
   "metadata": {},
   "outputs": [],
   "source": [
    "small_net = SmallNetwork(dataset.max_len, n_letters)\n",
    "\n",
    "lr=0.01\n",
    "\n",
    "criterion = nn.NLLLoss()\n",
    "optimizer = torch.optim.Adam(small_net.parameters(), lr=lr)\n",
    "n_epochs = 4\n",
    "\n",
    "\n",
    "test_callback = lambda model, criterion: test(model, criterion, test_dataloader) # Creates a callback that can be used to test the network on the given dataloader\n"
   ]
  },
  {
   "cell_type": "code",
   "execution_count": 18,
   "metadata": {},
   "outputs": [
    {
     "name": "stdout",
     "output_type": "stream",
     "text": [
      "Test loss: 1.0214\n",
      "Epoch: 1/4............. Loss: 1.3061\n",
      "Test loss: 0.8771\n",
      "Epoch: 2/4............. Loss: 0.9107\n",
      "Test loss: 0.7597\n",
      "Epoch: 3/4............. Loss: 0.7441\n",
      "Test loss: 0.7759\n",
      "Epoch: 4/4............. Loss: 0.6502\n"
     ]
    }
   ],
   "source": [
    "train_history, test_history = train(small_net, criterion, optimizer, n_epochs, train_dataloader, test_callback=test_callback)"
   ]
  },
  {
   "cell_type": "code",
   "execution_count": 19,
   "metadata": {},
   "outputs": [
    {
     "data": {
      "image/png": "[encoded data removed]",
      "text/plain": [
       "<Figure size 432x288 with 1 Axes>"
      ]
     },
     "metadata": {
      "needs_background": "light"
     },
     "output_type": "display_data"
    }
   ],
   "source": [
    "plot_train_test_history(train_history, test_history)"
   ]
  },
  {
   "cell_type": "code",
   "execution_count": 20,
   "metadata": {},
   "outputs": [],
   "source": [
    "#Lastly we will look at some sample names\n",
    "\n",
    "def predict(name, model):\n",
    "    \n",
    "    # First we pad the name\n",
    "    padded_name = name + \"0\" * (model.input_len - len(name))\n",
    "    name_tensor = name_to_tensor(padded_name)\n",
    "    prediction = model(name_tensor.view(1, -1, n_letters))\n",
    "    detached_prediction = prediction.detach()\n",
    "    return dataset.all_categories[np.argmax(detached_prediction[0])]"
   ]
  },
  {
   "cell_type": "code",
   "execution_count": 21,
   "metadata": {},
   "outputs": [
    {
     "name": "stdout",
     "output_type": "stream",
     "text": [
      "Hanz Russian\n",
      "Hans English\n",
      "Tsi Chinese\n",
      "Roberto Spanish\n",
      "Roberta Spanish\n",
      "Antonowitsch Czech\n"
     ]
    }
   ],
   "source": [
    "names = [\"Hanz\", 'Hans', 'Tsi', 'Roberto', 'Roberta', 'Antonowitsch']\n",
    "for name in names:\n",
    "    print(name, predict(name, small_net))"
   ]
  },
  {
   "cell_type": "markdown",
   "metadata": {},
   "source": [
    "### Better models. \n",
    "\n",
    "There are two issues with this model:\n",
    "\n",
    "1) It is not the best model, makes weird mistakes even on small dataset. \n",
    "\n",
    "2) It can only take names of length 19. What if we added some crazy other language which has names of length greater then 19? With small names we give this model lot of information that is not used in the prediction.\n",
    "\n",
    "Solution: Use RNN."
   ]
  },
  {
   "cell_type": "markdown",
   "metadata": {},
   "source": [
    "### Exercise:\n",
    "\n",
    "Create 3 different rnn models (vanilla, lstm, gru) and compare their performance"
   ]
  },
  {
   "cell_type": "code",
   "execution_count": 22,
   "metadata": {},
   "outputs": [],
   "source": [
    "import torch.nn as nn \n",
    "from torch.nn import functional as F\n",
    "n_hidden = 128\n",
    "\n",
    "\n",
    "class RNNModel(nn.Module):\n",
    "\n",
    "    \n",
    "    ### Your code here ###\n",
    "    def __init__(self, n_letters, n_hidden, num_categories):\n",
    "        super(RNNModel, self).__init__()\n",
    "        self.name = \"rnn\"\n",
    "        self.rnn = nn.RNN(n_letters, n_hidden, batch_first=True,)\n",
    "        self.fc = nn.Linear(n_hidden, num_categories)\n",
    "\n",
    "    def forward(self, name):\n",
    "        rnn_out, _ = self.rnn(name)\n",
    "        fc_out = self.fc(rnn_out[:, -1 ]) # Only need the last output of the rnn\n",
    "        return F.log_softmax(fc_out, dim=1)\n",
    "    \n",
    "    ### Your Code here end ###\n",
    "\n",
    "class LSTMModel(nn.Module):\n",
    "    \n",
    "    ### Your code here ###\n",
    "    \n",
    "    def __init__(self, n_letters, n_hidden, num_categories):\n",
    "        super(LSTMModel, self).__init__()\n",
    "        self.name = \"lstm\"\n",
    "        self.rnn = nn.LSTM(n_letters, n_hidden, batch_first=True,)\n",
    "        self.fc = nn.Linear(n_hidden, num_categories)\n",
    "\n",
    "    def forward(self, name):\n",
    "        rnn_out, _ = self.rnn(name)\n",
    "        fc_out = self.fc(rnn_out[:, -1 ]) # Only need the last output of the rnn\n",
    "        return F.log_softmax(fc_out, dim=1)\n",
    "     ### Your code here end ###\n",
    "    \n",
    "class GRUModel(nn.Module):\n",
    "     ### Your code here ###\n",
    "    def __init__(self, n_letters, n_hidden, num_categories):\n",
    "        super(GRUModel, self).__init__()\n",
    "        self.name = 'gru'\n",
    "        self.rnn = nn.GRU(n_letters, n_hidden, batch_first=True,)\n",
    "        self.fc = nn.Linear(n_hidden, num_categories)\n",
    "\n",
    "    def forward(self, name):\n",
    "        rnn_out, _ = self.rnn(name)\n",
    "        fc_out = self.fc(rnn_out[:, -1 ]) # Only need the last output of the rnn\n",
    "        return F.log_softmax(fc_out, dim=1)\n",
    "    ### Your code here end ###\n",
    "\n",
    "\n",
    "    "
   ]
  },
  {
   "cell_type": "code",
   "execution_count": 33,
   "metadata": {},
   "outputs": [],
   "source": [
    "# Create the models\n",
    "\n",
    "### Your code here ###\n",
    "rnn = RNNModel(n_letters, n_hidden, dataset.num_categories)\n",
    "LSTM = LSTMModel(n_letters, n_hidden, dataset.num_categories)\n",
    "gru = GRUModel(n_letters, n_hidden, dataset.num_categories)\n",
    "\n",
    "### Your code here end ###"
   ]
  },
  {
   "cell_type": "code",
   "execution_count": 34,
   "metadata": {},
   "outputs": [],
   "source": [
    "def train_and_compare(models):\n",
    "    \"\"\"\n",
    "     Function that trains and compares models\n",
    "    \"\"\"\n",
    "    histories = []\n",
    "    for model in models:\n",
    "        lr=0.01\n",
    "\n",
    "        criterion = nn.NLLLoss()\n",
    "        optimizer = torch.optim.Adam(model.parameters(), lr=lr)\n",
    "        n_epochs = 20\n",
    "\n",
    "\n",
    "        test_callback = lambda model, criterion: test(model, criterion, test_dataloader) # Creates a callback that can be used to test the network on the given dataloader\n",
    "        histories.append(train(model, criterion, optimizer, n_epochs, train_dataloader, test_callback=test_callback))\n",
    "    for history in histories:\n",
    "        plot_train_test_history(*history)"
   ]
  },
  {
   "cell_type": "code",
   "execution_count": 35,
   "metadata": {},
   "outputs": [
    {
     "name": "stdout",
     "output_type": "stream",
     "text": [
      "Test loss: 2.0367\n",
      "Epoch: 1/20............. Loss: 1.9441\n",
      "Test loss: 1.9304\n",
      "Epoch: 2/20............. Loss: 1.9262\n",
      "Test loss: 1.9136\n",
      "Epoch: 3/20............. Loss: 1.9259\n",
      "Test loss: 1.9152\n",
      "Epoch: 4/20............. Loss: 1.9197\n",
      "Test loss: 1.8794\n",
      "Epoch: 5/20............. Loss: 1.9194\n",
      "Test loss: 1.9359\n",
      "Epoch: 6/20............. Loss: 1.9192\n",
      "Test loss: 1.8910\n",
      "Epoch: 7/20............. Loss: 1.9330\n",
      "Test loss: 1.9364\n",
      "Epoch: 8/20............. Loss: 1.9168\n",
      "Test loss: 1.9616\n",
      "Epoch: 9/20............. Loss: 1.9276\n",
      "Test loss: 1.8848\n",
      "Epoch: 10/20............. Loss: 1.9198\n",
      "Test loss: 1.9214\n",
      "Epoch: 11/20............. Loss: 1.9367\n",
      "Test loss: 1.9392\n",
      "Epoch: 12/20............. Loss: 1.9505\n",
      "Test loss: 1.8960\n",
      "Epoch: 13/20............. Loss: 1.9352\n",
      "Test loss: 1.9028\n",
      "Epoch: 14/20............. Loss: 1.9489\n",
      "Test loss: 2.1425\n",
      "Epoch: 15/20............. Loss: 1.9332\n",
      "Test loss: 2.0694\n",
      "Epoch: 16/20............. Loss: 1.9428\n",
      "Test loss: 1.9586\n",
      "Epoch: 17/20............. Loss: 1.9447\n",
      "Test loss: 1.9938\n",
      "Epoch: 18/20............. Loss: 1.9395\n",
      "Test loss: 1.9925\n",
      "Epoch: 19/20............. Loss: 1.9392\n",
      "Test loss: 1.9196\n",
      "Epoch: 20/20............. Loss: 1.9459\n",
      "Test loss: 1.8532\n",
      "Epoch: 1/20............. Loss: 1.8746\n",
      "Test loss: 1.8146\n",
      "Epoch: 2/20............. Loss: 1.8559\n",
      "Test loss: 1.5132\n",
      "Epoch: 3/20............. Loss: 1.7367\n",
      "Test loss: 1.2621\n",
      "Epoch: 4/20............. Loss: 1.3849\n",
      "Test loss: 1.0208\n",
      "Epoch: 5/20............. Loss: 1.1259\n",
      "Test loss: 0.8791\n",
      "Epoch: 6/20............. Loss: 0.9222\n",
      "Test loss: 0.7931\n",
      "Epoch: 7/20............. Loss: 0.8044\n",
      "Test loss: 0.7948\n",
      "Epoch: 8/20............. Loss: 0.7091\n",
      "Test loss: 0.7301\n",
      "Epoch: 9/20............. Loss: 0.6429\n",
      "Test loss: 0.7009\n",
      "Epoch: 10/20............. Loss: 0.5930\n",
      "Test loss: 0.6745\n",
      "Epoch: 11/20............. Loss: 0.5327\n",
      "Test loss: 0.6892\n",
      "Epoch: 12/20............. Loss: 0.4828\n",
      "Test loss: 0.7022\n",
      "Epoch: 13/20............. Loss: 0.4461\n",
      "Test loss: 0.6927\n",
      "Epoch: 14/20............. Loss: 0.4124\n",
      "Test loss: 0.7092\n",
      "Epoch: 15/20............. Loss: 0.3856\n",
      "Test loss: 0.7523\n",
      "Epoch: 16/20............. Loss: 0.3749\n",
      "Test loss: 0.7177\n",
      "Epoch: 17/20............. Loss: 0.3534\n",
      "Test loss: 0.7551\n",
      "Epoch: 18/20............. Loss: 0.3012\n",
      "Test loss: 0.8037\n",
      "Epoch: 19/20............. Loss: 0.2859\n",
      "Test loss: 0.7566\n",
      "Epoch: 20/20............. Loss: 0.2823\n",
      "Test loss: 0.8388\n",
      "Epoch: 1/20............. Loss: 1.2894\n",
      "Test loss: 0.6707\n",
      "Epoch: 2/20............. Loss: 0.7194\n",
      "Test loss: 0.6174\n",
      "Epoch: 3/20............. Loss: 0.5685\n",
      "Test loss: 0.6062\n",
      "Epoch: 4/20............. Loss: 0.4841\n",
      "Test loss: 0.6001\n",
      "Epoch: 5/20............. Loss: 0.4272\n",
      "Test loss: 0.6042\n",
      "Epoch: 6/20............. Loss: 0.3875\n",
      "Test loss: 0.6180\n",
      "Epoch: 7/20............. Loss: 0.3574\n",
      "Test loss: 0.6591\n",
      "Epoch: 8/20............. Loss: 0.3376\n",
      "Test loss: 0.6513\n",
      "Epoch: 9/20............. Loss: 0.3289\n",
      "Test loss: 0.6416\n",
      "Epoch: 10/20............. Loss: 0.3123\n",
      "Test loss: 0.6873\n",
      "Epoch: 11/20............. Loss: 0.3233\n",
      "Test loss: 0.6765\n",
      "Epoch: 12/20............. Loss: 0.3155\n",
      "Test loss: 0.7239\n",
      "Epoch: 13/20............. Loss: 0.2898\n",
      "Test loss: 0.7240\n",
      "Epoch: 14/20............. Loss: 0.2857\n",
      "Test loss: 0.7539\n",
      "Epoch: 15/20............. Loss: 0.2905\n",
      "Test loss: 0.7211\n",
      "Epoch: 16/20............. Loss: 0.2900\n",
      "Test loss: 0.7700\n",
      "Epoch: 17/20............. Loss: 0.2652\n",
      "Test loss: 0.7542\n",
      "Epoch: 18/20............. Loss: 0.2732\n",
      "Test loss: 0.7511\n",
      "Epoch: 19/20............. Loss: 0.2748\n",
      "Test loss: 0.7751\n",
      "Epoch: 20/20............. Loss: 0.2601\n"
     ]
    },
    {
     "data": {
      "image/png": "[encoded data removed]",
      "text/plain": [
       "<Figure size 432x288 with 1 Axes>"
      ]
     },
     "metadata": {
      "needs_background": "light"
     },
     "output_type": "display_data"
    },
    {
     "data": {
      "image/png": "[encoded data removed]",
      "text/plain": [
       "<Figure size 432x288 with 1 Axes>"
      ]
     },
     "metadata": {
      "needs_background": "light"
     },
     "output_type": "display_data"
    },
    {
     "data": {
      "image/png": "[encoded data removed]",
      "text/plain": [
       "<Figure size 432x288 with 1 Axes>"
      ]
     },
     "metadata": {
      "needs_background": "light"
     },
     "output_type": "display_data"
    }
   ],
   "source": [
    "# Train and compare the models\n",
    "\n",
    "### Your code here ###\n",
    "models = [rnn, LSTM, gru]\n",
    "### Your code here end ###\n",
    "\n",
    "train_and_compare(models)"
   ]
  },
  {
   "cell_type": "code",
   "execution_count": 36,
   "metadata": {},
   "outputs": [],
   "source": [
    "\n",
    "def predict_rnn(name, rnn_model):\n",
    "    \"\"\"\n",
    "    A function that predicts with the use of a rnn model\n",
    "    \"\"\"\n",
    "    # No need to pad this time\n",
    "    name_tensor = name_to_tensor(name)\n",
    "    prediction = rnn_model(name_tensor.view(1, -1, n_letters))\n",
    "    detached_prediction = prediction.detach()\n",
    "    return dataset.all_categories[np.argmax(detached_prediction[0])]"
   ]
  },
  {
   "cell_type": "code",
   "execution_count": 38,
   "metadata": {},
   "outputs": [
    {
     "name": "stdout",
     "output_type": "stream",
     "text": [
      "rnn\n",
      "hanz Russian\n",
      "hans Russian\n",
      "tsi Russian\n",
      "roberto Russian\n",
      "roberta Russian\n",
      "antonowitsch Russian\n",
      "thisisaverylongnonexistingnamewonderwhatitwilldo Russian\n",
      "lstm\n",
      "hanz English\n",
      "hans English\n",
      "tsi German\n",
      "roberto Czech\n",
      "roberta Czech\n",
      "antonowitsch English\n",
      "thisisaverylongnonexistingnamewonderwhatitwilldo Russian\n",
      "gru\n",
      "hanz Korean\n",
      "hans Chinese\n",
      "tsi Russian\n",
      "roberto Italian\n",
      "roberta Italian\n",
      "antonowitsch Czech\n",
      "thisisaverylongnonexistingnamewonderwhatitwilldo French\n"
     ]
    }
   ],
   "source": [
    "for model in models:\n",
    "    \n",
    "    print(model.name)\n",
    "    names = [\"Hanz\", 'Hans', 'Tsi', 'Roberto', 'Roberta', 'Antonowitsch', \"thisisaverylongnonexistingnamewonderwhatitwilldo\"]\n",
    "    for name in names:\n",
    "        print(name, predict_rnn(name, model))"
   ]
  },
  {
   "cell_type": "code",
   "execution_count": null,
   "metadata": {},
   "outputs": [],
   "source": []
  }
 ],
 "metadata": {
  "kernelspec": {
   "display_name": "Python 3",
   "language": "python",
   "name": "python3"
  },
  "language_info": {
   "codemirror_mode": {
    "name": "ipython",
    "version": 3
   },
   "file_extension": ".py",
   "mimetype": "text/x-python",
   "name": "python",
   "nbconvert_exporter": "python",
   "pygments_lexer": "ipython3",
   "version": "3.8.5"
  }
 },
 "nbformat": 4,
 "nbformat_minor": 4
}
