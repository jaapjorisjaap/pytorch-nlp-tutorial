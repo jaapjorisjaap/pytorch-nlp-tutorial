{
 "cells": [
  {
   "cell_type": "code",
   "execution_count": 1,
   "metadata": {},
   "outputs": [],
   "source": [
    "import torch\n",
    "device = torch.device(\"cuda:0\" if torch.cuda.is_available() else \"cpu\")\n",
    "\n",
    "# Set default to run on the GPU if available (for the speed up)\n",
    "if torch.cuda.is_available():\n",
    "    torch.cuda.set_device(device)\n",
    "torch.set_default_tensor_type('torch.cuda.FloatTensor')"
   ]
  },
  {
   "cell_type": "code",
   "execution_count": 2,
   "metadata": {},
   "outputs": [],
   "source": [
    "import torch\n",
    "from torch.utils.data import Dataset, DataLoader, random_split"
   ]
  },
  {
   "cell_type": "code",
   "execution_count": 5,
   "metadata": {},
   "outputs": [],
   "source": [
    "from torchtext import data, datasets\n",
    "# set up fields\n",
    "TEXT = data.Field(lower=True, include_lengths=True, batch_first=True, fix_length=100)\n",
    "LABEL = data.Field(sequential=False)\n",
    "\n",
    "# make splits for data\n",
    "train, test = datasets.IMDB.splits(TEXT, LABEL)\n",
    "\n",
    "TEXT.build_vocab(train, max_size=1000)\n",
    "LABEL.build_vocab(train)"
   ]
  },
  {
   "cell_type": "code",
   "execution_count": 6,
   "metadata": {},
   "outputs": [
    {
     "name": "stderr",
     "output_type": "stream",
     "text": [
      "The `device` argument should be set by using `torch.device` or passing a string as an argument. This behavior will be deprecated soon and currently defaults to cpu.\n",
      "The `device` argument should be set by using `torch.device` or passing a string as an argument. This behavior will be deprecated soon and currently defaults to cpu.\n"
     ]
    }
   ],
   "source": [
    "train_iter, test_iter = data.BucketIterator.splits(\n",
    "    (train, test), batch_size=64, device=0)"
   ]
  },
  {
   "cell_type": "code",
   "execution_count": 7,
   "metadata": {},
   "outputs": [
    {
     "name": "stdout",
     "output_type": "stream",
     "text": [
      "391\n"
     ]
    }
   ],
   "source": [
    "print(len(train_iter))"
   ]
  },
  {
   "cell_type": "code",
   "execution_count": 8,
   "metadata": {},
   "outputs": [
    {
     "data": {
      "text/plain": [
       "LSTMModel(\n",
       "  (embedding): Embedding(1004, 128)\n",
       "  (LSTM): LSTM(128, 128, batch_first=True)\n",
       "  (fc): Linear(in_features=128, out_features=1, bias=True)\n",
       ")"
      ]
     },
     "execution_count": 8,
     "metadata": {},
     "output_type": "execute_result"
    }
   ],
   "source": [
    "import torch.nn as nn \n",
    "from torch.nn import functional as F\n",
    "n_hidden = 128\n",
    "num_words  = len(TEXT.vocab)\n",
    "\n",
    "class LSTMModel(nn.Module):\n",
    "\n",
    "    def __init__(self, num_words, n_hidden):\n",
    "        super(LSTMModel, self).__init__()\n",
    "        self.embedding = nn.Embedding(num_words, n_hidden)\n",
    "        self.LSTM = nn.LSTM(n_hidden, n_hidden, batch_first=True,)\n",
    "        self.fc = nn.Linear(n_hidden, 1)\n",
    "\n",
    "    def forward(self, review):\n",
    "        \n",
    "        x = self.embedding(review)\n",
    "        \n",
    "        rnn_out, _ = self.LSTM(x)\n",
    "     \n",
    "        fc_out = self.fc(rnn_out[:, -1 ]) # Only need the last output of the rnn\n",
    "        \n",
    "        return fc_out\n",
    "        \n",
    "    \n",
    "model = LSTMModel(num_words + 2, n_hidden)\n",
    "model.to(device)"
   ]
  },
  {
   "cell_type": "code",
   "execution_count": 9,
   "metadata": {},
   "outputs": [
    {
     "name": "stdout",
     "output_type": "stream",
     "text": [
      "Epoch: 1/5............. Loss: 0.6844\n",
      "Epoch: 2/5............. Loss: 0.6131\n",
      "Epoch: 3/5............. Loss: 0.5108\n",
      "Epoch: 4/5............. Loss: 0.4554\n",
      "Epoch: 5/5............. Loss: 0.4146\n"
     ]
    }
   ],
   "source": [
    "loss_history = []\n",
    "test_history = []\n",
    "acc_history = []\n",
    "n_epochs = 5\n",
    "\n",
    "criterion = nn.BCEWithLogitsLoss()\n",
    "optimizer = torch.optim.Adam(model.parameters() , 1e-3)\n",
    "for epoch in range(1, n_epochs + 1):\n",
    "    epoch_total_loss = 0\n",
    "    for i, batch in enumerate(train_iter):\n",
    "        optimizer.zero_grad() # Clears existing gradients from previous epoch\n",
    "        \n",
    "        output = model(batch.text[0])\n",
    "\n",
    "        \n",
    "        \n",
    "        loss = criterion(output, batch.label.float().view(-1, 1) - 1)\n",
    "        loss.backward() # Does backpropagation and calculates gradients\n",
    "        optimizer.step() # Updates the weights accordingly\n",
    "\n",
    "        epoch_total_loss += loss.item() # Keep track of the total loss\n",
    "    loss_history.append(epoch_total_loss/len(train_iter))\n",
    "\n",
    "        \n",
    "    print('Epoch: {}/{}.............'.format(epoch, n_epochs), end=' ')\n",
    "    print(\"Loss: {:.4f}\".format(epoch_total_loss/ len(train_iter)))"
   ]
  },
  {
   "cell_type": "code",
   "execution_count": null,
   "metadata": {},
   "outputs": [],
   "source": []
  }
 ],
 "metadata": {
  "kernelspec": {
   "display_name": "Python 3",
   "language": "python",
   "name": "python3"
  },
  "language_info": {
   "codemirror_mode": {
    "name": "ipython",
    "version": 3
   },
   "file_extension": ".py",
   "mimetype": "text/x-python",
   "name": "python",
   "nbconvert_exporter": "python",
   "pygments_lexer": "ipython3",
   "version": "3.8.5"
  }
 },
 "nbformat": 4,
 "nbformat_minor": 4
}
